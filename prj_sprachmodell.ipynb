{
 "cells": [
  {
   "cell_type": "markdown",
   "metadata": {},
   "source": [
    "**Abschlussprojekt: Entwicklung eines eigenen Sprachmodells**"
   ]
  },
  {
   "cell_type": "code",
   "execution_count": 26,
   "metadata": {},
   "outputs": [],
   "source": [
    "import torch\n",
    "import torch.nn as nn\n",
    "import torch.nn.functional as F\n",
    "import torch.optim as optim\n",
    "from torch.utils.data import Dataset, DataLoader\n",
    "from transformers import AutoTokenizer\n",
    "from datasets import load_dataset\n",
    "import wandb\n",
    "from tqdm import tqdm"
   ]
  },
  {
   "cell_type": "code",
   "execution_count": 27,
   "metadata": {},
   "outputs": [
    {
     "data": {
      "text/html": [],
      "text/plain": [
       "<IPython.core.display.HTML object>"
      ]
     },
     "metadata": {},
     "output_type": "display_data"
    },
    {
     "data": {
      "text/html": [
       " View run <strong style=\"color:#cdcd00\">faithful-bird-2</strong> at: <a href='https://wandb.ai/tet-sydorenko-private_account/my-transformer-lm/runs/icnt17pz' target=\"_blank\">https://wandb.ai/tet-sydorenko-private_account/my-transformer-lm/runs/icnt17pz</a><br> View project at: <a href='https://wandb.ai/tet-sydorenko-private_account/my-transformer-lm' target=\"_blank\">https://wandb.ai/tet-sydorenko-private_account/my-transformer-lm</a><br>Synced 5 W&B file(s), 0 media file(s), 0 artifact file(s) and 0 other file(s)"
      ],
      "text/plain": [
       "<IPython.core.display.HTML object>"
      ]
     },
     "metadata": {},
     "output_type": "display_data"
    },
    {
     "data": {
      "text/html": [
       "Find logs at: <code>.\\wandb\\run-20250423_013047-icnt17pz\\logs</code>"
      ],
      "text/plain": [
       "<IPython.core.display.HTML object>"
      ]
     },
     "metadata": {},
     "output_type": "display_data"
    },
    {
     "data": {
      "text/html": [
       "Tracking run with wandb version 0.19.9"
      ],
      "text/plain": [
       "<IPython.core.display.HTML object>"
      ]
     },
     "metadata": {},
     "output_type": "display_data"
    },
    {
     "data": {
      "text/html": [
       "Run data is saved locally in <code>d:\\WORK\\INTO_CODE\\Teil4-GEN-KI-1\\Projekt_Hussam\\GenerativeAI-Project\\wandb\\run-20250423_014113-utwsq52x</code>"
      ],
      "text/plain": [
       "<IPython.core.display.HTML object>"
      ]
     },
     "metadata": {},
     "output_type": "display_data"
    },
    {
     "data": {
      "text/html": [
       "Syncing run <strong><a href='https://wandb.ai/tet-sydorenko-private_account/my-transformer-lm/runs/utwsq52x' target=\"_blank\">fluent-aardvark-3</a></strong> to <a href='https://wandb.ai/tet-sydorenko-private_account/my-transformer-lm' target=\"_blank\">Weights & Biases</a> (<a href='https://wandb.me/developer-guide' target=\"_blank\">docs</a>)<br>"
      ],
      "text/plain": [
       "<IPython.core.display.HTML object>"
      ]
     },
     "metadata": {},
     "output_type": "display_data"
    },
    {
     "data": {
      "text/html": [
       " View project at <a href='https://wandb.ai/tet-sydorenko-private_account/my-transformer-lm' target=\"_blank\">https://wandb.ai/tet-sydorenko-private_account/my-transformer-lm</a>"
      ],
      "text/plain": [
       "<IPython.core.display.HTML object>"
      ]
     },
     "metadata": {},
     "output_type": "display_data"
    },
    {
     "data": {
      "text/html": [
       " View run at <a href='https://wandb.ai/tet-sydorenko-private_account/my-transformer-lm/runs/utwsq52x' target=\"_blank\">https://wandb.ai/tet-sydorenko-private_account/my-transformer-lm/runs/utwsq52x</a>"
      ],
      "text/plain": [
       "<IPython.core.display.HTML object>"
      ]
     },
     "metadata": {},
     "output_type": "display_data"
    },
    {
     "data": {
      "text/html": [
       "<button onClick=\"this.nextSibling.style.display='block';this.style.display='none';\">Display W&B run</button><iframe src='https://wandb.ai/tet-sydorenko-private_account/my-transformer-lm/runs/utwsq52x?jupyter=true' style='border:none;width:100%;height:420px;display:none;'></iframe>"
      ],
      "text/plain": [
       "<wandb.sdk.wandb_run.Run at 0x1aeaed46ad0>"
      ]
     },
     "execution_count": 27,
     "metadata": {},
     "output_type": "execute_result"
    }
   ],
   "source": [
    "# ======================== Config ========================\n",
    "config = {\n",
    "    \"epochs\": 5,\n",
    "    \"batch_size\": 64,\n",
    "    \"learning_rate\": 1e-4,\n",
    "    \"model_dim\": 256,\n",
    "    \"n_heads\": 4,\n",
    "    \"n_layers\": 4,\n",
    "    \"block_size\": 64,\n",
    "    \"dataset\": \"wikitext\",\n",
    "    \"dataset_config\": \"wikitext-2-raw-v1\"\n",
    "}\n",
    "\n",
    "# ======================== Device ========================\n",
    "device = torch.device(\"cuda\" if torch.cuda.is_available() else \"cpu\")\n",
    "\n",
    "# ======================== wandb ========================\n",
    "wandb.init(project=\"my-transformer-lm\", config=config)\n"
   ]
  },
  {
   "cell_type": "code",
   "execution_count": 32,
   "metadata": {},
   "outputs": [],
   "source": [
    "# ======================== Tokenizer & Dataset ========================\n",
    "tokenizer = AutoTokenizer.from_pretrained(\"gpt2\")\n",
    "tokenizer.pad_token = tokenizer.eos_token\n",
    "config[\"vocab_size\"] = tokenizer.vocab_size\n",
    "\n",
    "raw_dataset = load_dataset(config[\"dataset\"], config[\"dataset_config\"])\n",
    "\n",
    "class TokenDataset(Dataset):\n",
    "    def __init__(self, texts, block_size):\n",
    "        self.data = []\n",
    "        for txt in texts:\n",
    "            # токенизируем и сразу добавляем паддинг до block_size\n",
    "            tokenized = tokenizer.encode(\n",
    "                txt['text'], \n",
    "                truncation=True, \n",
    "                max_length=block_size, \n",
    "                padding=\"max_length\"\n",
    "            )\n",
    "            # теперь все последовательности длины block_size\n",
    "            self.data.append(torch.tensor(tokenized))\n",
    "\n",
    "    def __len__(self):\n",
    "        return len(self.data)\n",
    "\n",
    "    def __getitem__(self, idx):\n",
    "        return self.data[idx]\n",
    "\n",
    "train_texts = raw_dataset[\"train\"]\n",
    "val_texts = raw_dataset[\"validation\"]\n",
    "train_dataset = TokenDataset(train_texts, config[\"block_size\"])\n",
    "val_dataset = TokenDataset(val_texts, config[\"block_size\"])\n",
    "\n",
    "train_dataloader = DataLoader(train_dataset, batch_size=config[\"batch_size\"], shuffle=True, drop_last=True)\n",
    "val_dataloader = DataLoader(val_dataset, batch_size=config[\"batch_size\"], drop_last=True)"
   ]
  },
  {
   "cell_type": "code",
   "execution_count": 33,
   "metadata": {},
   "outputs": [],
   "source": [
    "# ======================== Model ========================\n",
    "class TransformerLM(nn.Module):\n",
    "    def __init__(self, vocab_size, embed_dim, n_heads, n_layers, block_size):\n",
    "        super().__init__()\n",
    "        self.embed = nn.Embedding(vocab_size, embed_dim)\n",
    "        self.positional_encoding = nn.Parameter(torch.zeros(1, block_size, embed_dim))\n",
    "\n",
    "        encoder_layer = nn.TransformerEncoderLayer(d_model=embed_dim, nhead=n_heads)\n",
    "        self.encoder = nn.TransformerEncoder(encoder_layer, num_layers=n_layers)\n",
    "\n",
    "        self.fc = nn.Linear(embed_dim, vocab_size)\n",
    "\n",
    "    def forward(self, x):\n",
    "        x = self.embed(x) + self.positional_encoding[:, :x.size(1), :]\n",
    "        x = x.transpose(0, 1)  # Transformer expects seq_len, batch, embed\n",
    "        x = self.encoder(x)\n",
    "        x = x.transpose(0, 1)  # Back to batch, seq_len, embed\n",
    "        return self.fc(x)\n",
    "\n",
    "model = TransformerLM(\n",
    "    vocab_size=config[\"vocab_size\"],\n",
    "    embed_dim=config[\"model_dim\"],\n",
    "    n_heads=config[\"n_heads\"],\n",
    "    n_layers=config[\"n_layers\"],\n",
    "    block_size=config[\"block_size\"]\n",
    ").to(device)\n"
   ]
  },
  {
   "cell_type": "code",
   "execution_count": 34,
   "metadata": {},
   "outputs": [],
   "source": [
    "# ======================== Train ========================\n",
    "def train(model, train_dataloader, val_dataloader, epochs):\n",
    "    optimizer = optim.Adam(model.parameters(), lr=config[\"learning_rate\"])\n",
    "    loss_fn = nn.CrossEntropyLoss()\n",
    "\n",
    "    for epoch in range(epochs):\n",
    "        model.train()\n",
    "        total_train_loss = 0\n",
    "\n",
    "        for batch in tqdm(train_dataloader, desc=f\"Epoch {epoch+1} - Training\"):\n",
    "            inputs = batch[:, :-1].to(device)\n",
    "            targets = batch[:, 1:].to(device)\n",
    "\n",
    "            logits = model(inputs)\n",
    "            logits = logits.view(-1, config[\"vocab_size\"])\n",
    "            targets = targets.reshape(-1)\n",
    "\n",
    "            loss = loss_fn(logits, targets)\n",
    "            optimizer.zero_grad()\n",
    "            loss.backward()\n",
    "            optimizer.step()\n",
    "\n",
    "            total_train_loss += loss.item()\n",
    "\n",
    "        avg_train_loss = total_train_loss / len(train_dataloader)\n",
    "\n",
    "        # Validation\n",
    "        model.eval()\n",
    "        total_val_loss = 0\n",
    "        with torch.no_grad():\n",
    "            for batch in tqdm(val_dataloader, desc=f\"Epoch {epoch+1} - Validation\"):\n",
    "                inputs = batch[:, :-1].to(device)\n",
    "                targets = batch[:, 1:].to(device)\n",
    "\n",
    "                logits = model(inputs)\n",
    "                logits = logits.view(-1, config[\"vocab_size\"])\n",
    "                targets = targets.reshape(-1)\n",
    "\n",
    "                loss = loss_fn(logits, targets)\n",
    "                total_val_loss += loss.item()\n",
    "\n",
    "        avg_val_loss = total_val_loss / len(val_dataloader)\n",
    "\n",
    "        print(f\"Epoch {epoch+1} | Train Loss: {avg_train_loss:.4f} | Val Loss: {avg_val_loss:.4f}\")\n",
    "        wandb.log({\"train_loss\": avg_train_loss, \"val_loss\": avg_val_loss, \"epoch\": epoch+1})\n"
   ]
  },
  {
   "cell_type": "code",
   "execution_count": 35,
   "metadata": {},
   "outputs": [
    {
     "name": "stderr",
     "output_type": "stream",
     "text": [
      "Epoch 1 - Training: 100%|██████████| 573/573 [18:34<00:00,  1.94s/it]\n",
      "Epoch 1 - Validation: 100%|██████████| 58/58 [00:39<00:00,  1.47it/s]\n"
     ]
    },
    {
     "name": "stdout",
     "output_type": "stream",
     "text": [
      "Epoch 1 | Train Loss: 3.4355 | Val Loss: 3.0568\n"
     ]
    },
    {
     "name": "stderr",
     "output_type": "stream",
     "text": [
      "Epoch 2 - Training: 100%|██████████| 573/573 [19:03<00:00,  2.00s/it]\n",
      "Epoch 2 - Validation: 100%|██████████| 58/58 [00:40<00:00,  1.43it/s]\n"
     ]
    },
    {
     "name": "stdout",
     "output_type": "stream",
     "text": [
      "Epoch 2 | Train Loss: 2.8388 | Val Loss: 2.8894\n"
     ]
    },
    {
     "name": "stderr",
     "output_type": "stream",
     "text": [
      "Epoch 3 - Training: 100%|██████████| 573/573 [4:42:12<00:00, 29.55s/it]     \n",
      "Epoch 3 - Validation: 100%|██████████| 58/58 [00:36<00:00,  1.58it/s]\n"
     ]
    },
    {
     "name": "stdout",
     "output_type": "stream",
     "text": [
      "Epoch 3 | Train Loss: 2.6748 | Val Loss: 2.7884\n"
     ]
    },
    {
     "name": "stderr",
     "output_type": "stream",
     "text": [
      "Epoch 4 - Training: 100%|██████████| 573/573 [18:34<00:00,  1.94s/it]\n",
      "Epoch 4 - Validation: 100%|██████████| 58/58 [00:36<00:00,  1.59it/s]\n"
     ]
    },
    {
     "name": "stdout",
     "output_type": "stream",
     "text": [
      "Epoch 4 | Train Loss: 2.5491 | Val Loss: 2.7162\n"
     ]
    },
    {
     "name": "stderr",
     "output_type": "stream",
     "text": [
      "Epoch 5 - Training: 100%|██████████| 573/573 [18:41<00:00,  1.96s/it]\n",
      "Epoch 5 - Validation: 100%|██████████| 58/58 [00:36<00:00,  1.59it/s]\n"
     ]
    },
    {
     "name": "stdout",
     "output_type": "stream",
     "text": [
      "Epoch 5 | Train Loss: 2.4437 | Val Loss: 2.6589\n"
     ]
    },
    {
     "data": {
      "text/html": [],
      "text/plain": [
       "<IPython.core.display.HTML object>"
      ]
     },
     "metadata": {},
     "output_type": "display_data"
    },
    {
     "data": {
      "text/html": [
       "<br>    <style><br>        .wandb-row {<br>            display: flex;<br>            flex-direction: row;<br>            flex-wrap: wrap;<br>            justify-content: flex-start;<br>            width: 100%;<br>        }<br>        .wandb-col {<br>            display: flex;<br>            flex-direction: column;<br>            flex-basis: 100%;<br>            flex: 1;<br>            padding: 10px;<br>        }<br>    </style><br><div class=\"wandb-row\"><div class=\"wandb-col\"><h3>Run history:</h3><br/><table class=\"wandb\"><tr><td>epoch</td><td>▁▃▅▆█</td></tr><tr><td>train_loss</td><td>█▄▃▂▁</td></tr><tr><td>val_loss</td><td>█▅▃▂▁</td></tr></table><br/></div><div class=\"wandb-col\"><h3>Run summary:</h3><br/><table class=\"wandb\"><tr><td>epoch</td><td>5</td></tr><tr><td>train_loss</td><td>2.44372</td></tr><tr><td>val_loss</td><td>2.65891</td></tr></table><br/></div></div>"
      ],
      "text/plain": [
       "<IPython.core.display.HTML object>"
      ]
     },
     "metadata": {},
     "output_type": "display_data"
    },
    {
     "data": {
      "text/html": [
       " View run <strong style=\"color:#cdcd00\">fluent-aardvark-3</strong> at: <a href='https://wandb.ai/tet-sydorenko-private_account/my-transformer-lm/runs/utwsq52x' target=\"_blank\">https://wandb.ai/tet-sydorenko-private_account/my-transformer-lm/runs/utwsq52x</a><br> View project at: <a href='https://wandb.ai/tet-sydorenko-private_account/my-transformer-lm' target=\"_blank\">https://wandb.ai/tet-sydorenko-private_account/my-transformer-lm</a><br>Synced 5 W&B file(s), 0 media file(s), 0 artifact file(s) and 0 other file(s)"
      ],
      "text/plain": [
       "<IPython.core.display.HTML object>"
      ]
     },
     "metadata": {},
     "output_type": "display_data"
    },
    {
     "data": {
      "text/html": [
       "Find logs at: <code>.\\wandb\\run-20250423_014113-utwsq52x\\logs</code>"
      ],
      "text/plain": [
       "<IPython.core.display.HTML object>"
      ]
     },
     "metadata": {},
     "output_type": "display_data"
    }
   ],
   "source": [
    "train(model, train_dataloader, val_dataloader, config[\"epochs\"])\n",
    "wandb.finish()"
   ]
  }
 ],
 "metadata": {
  "kernelspec": {
   "display_name": "myenv_genai",
   "language": "python",
   "name": "python3"
  },
  "language_info": {
   "codemirror_mode": {
    "name": "ipython",
    "version": 3
   },
   "file_extension": ".py",
   "mimetype": "text/x-python",
   "name": "python",
   "nbconvert_exporter": "python",
   "pygments_lexer": "ipython3",
   "version": "3.10.16"
  }
 },
 "nbformat": 4,
 "nbformat_minor": 2
}

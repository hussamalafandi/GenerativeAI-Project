{
 "cells": [
  {
   "cell_type": "markdown",
   "id": "61d724cf",
   "metadata": {},
   "source": [
    "## Installing required libraries"
   ]
  },
  {
   "cell_type": "code",
   "execution_count": 1,
   "id": "0cb14b70",
   "metadata": {},
   "outputs": [
    {
     "name": "stdout",
     "output_type": "stream",
     "text": [
      "Requirement already satisfied: torch in c:\\users\\hshakademie7\\desktop\\intocode weiterbildung\\generative_al_project\\.venv\\lib\\site-packages (2.6.0)\n",
      "Requirement already satisfied: transformers in c:\\users\\hshakademie7\\desktop\\intocode weiterbildung\\generative_al_project\\.venv\\lib\\site-packages (4.51.2)\n",
      "Requirement already satisfied: datasets in c:\\users\\hshakademie7\\desktop\\intocode weiterbildung\\generative_al_project\\.venv\\lib\\site-packages (3.5.0)\n",
      "Requirement already satisfied: wandb in c:\\users\\hshakademie7\\desktop\\intocode weiterbildung\\generative_al_project\\.venv\\lib\\site-packages (0.19.9)\n",
      "Requirement already satisfied: filelock in c:\\users\\hshakademie7\\desktop\\intocode weiterbildung\\generative_al_project\\.venv\\lib\\site-packages (from torch) (3.18.0)\n",
      "Requirement already satisfied: typing-extensions>=4.10.0 in c:\\users\\hshakademie7\\desktop\\intocode weiterbildung\\generative_al_project\\.venv\\lib\\site-packages (from torch) (4.13.2)\n",
      "Requirement already satisfied: networkx in c:\\users\\hshakademie7\\desktop\\intocode weiterbildung\\generative_al_project\\.venv\\lib\\site-packages (from torch) (3.4.2)\n",
      "Requirement already satisfied: jinja2 in c:\\users\\hshakademie7\\desktop\\intocode weiterbildung\\generative_al_project\\.venv\\lib\\site-packages (from torch) (3.1.6)\n",
      "Requirement already satisfied: fsspec in c:\\users\\hshakademie7\\desktop\\intocode weiterbildung\\generative_al_project\\.venv\\lib\\site-packages (from torch) (2024.12.0)\n",
      "Requirement already satisfied: setuptools in c:\\users\\hshakademie7\\desktop\\intocode weiterbildung\\generative_al_project\\.venv\\lib\\site-packages (from torch) (78.1.0)\n",
      "Requirement already satisfied: sympy==1.13.1 in c:\\users\\hshakademie7\\desktop\\intocode weiterbildung\\generative_al_project\\.venv\\lib\\site-packages (from torch) (1.13.1)\n",
      "Requirement already satisfied: mpmath<1.4,>=1.1.0 in c:\\users\\hshakademie7\\desktop\\intocode weiterbildung\\generative_al_project\\.venv\\lib\\site-packages (from sympy==1.13.1->torch) (1.3.0)\n",
      "Requirement already satisfied: huggingface-hub<1.0,>=0.30.0 in c:\\users\\hshakademie7\\desktop\\intocode weiterbildung\\generative_al_project\\.venv\\lib\\site-packages (from transformers) (0.30.2)\n",
      "Requirement already satisfied: numpy>=1.17 in c:\\users\\hshakademie7\\desktop\\intocode weiterbildung\\generative_al_project\\.venv\\lib\\site-packages (from transformers) (2.2.4)\n",
      "Requirement already satisfied: packaging>=20.0 in c:\\users\\hshakademie7\\desktop\\intocode weiterbildung\\generative_al_project\\.venv\\lib\\site-packages (from transformers) (24.2)\n",
      "Requirement already satisfied: pyyaml>=5.1 in c:\\users\\hshakademie7\\desktop\\intocode weiterbildung\\generative_al_project\\.venv\\lib\\site-packages (from transformers) (6.0.2)\n",
      "Requirement already satisfied: regex!=2019.12.17 in c:\\users\\hshakademie7\\desktop\\intocode weiterbildung\\generative_al_project\\.venv\\lib\\site-packages (from transformers) (2024.11.6)\n",
      "Requirement already satisfied: requests in c:\\users\\hshakademie7\\desktop\\intocode weiterbildung\\generative_al_project\\.venv\\lib\\site-packages (from transformers) (2.32.3)\n",
      "Requirement already satisfied: tokenizers<0.22,>=0.21 in c:\\users\\hshakademie7\\desktop\\intocode weiterbildung\\generative_al_project\\.venv\\lib\\site-packages (from transformers) (0.21.1)\n",
      "Requirement already satisfied: safetensors>=0.4.3 in c:\\users\\hshakademie7\\desktop\\intocode weiterbildung\\generative_al_project\\.venv\\lib\\site-packages (from transformers) (0.5.3)\n",
      "Requirement already satisfied: tqdm>=4.27 in c:\\users\\hshakademie7\\desktop\\intocode weiterbildung\\generative_al_project\\.venv\\lib\\site-packages (from transformers) (4.67.1)\n",
      "Requirement already satisfied: pyarrow>=15.0.0 in c:\\users\\hshakademie7\\desktop\\intocode weiterbildung\\generative_al_project\\.venv\\lib\\site-packages (from datasets) (19.0.1)\n",
      "Requirement already satisfied: dill<0.3.9,>=0.3.0 in c:\\users\\hshakademie7\\desktop\\intocode weiterbildung\\generative_al_project\\.venv\\lib\\site-packages (from datasets) (0.3.8)\n",
      "Requirement already satisfied: pandas in c:\\users\\hshakademie7\\desktop\\intocode weiterbildung\\generative_al_project\\.venv\\lib\\site-packages (from datasets) (2.2.3)\n",
      "Requirement already satisfied: xxhash in c:\\users\\hshakademie7\\desktop\\intocode weiterbildung\\generative_al_project\\.venv\\lib\\site-packages (from datasets) (3.5.0)\n",
      "Requirement already satisfied: multiprocess<0.70.17 in c:\\users\\hshakademie7\\desktop\\intocode weiterbildung\\generative_al_project\\.venv\\lib\\site-packages (from datasets) (0.70.16)\n",
      "Requirement already satisfied: aiohttp in c:\\users\\hshakademie7\\desktop\\intocode weiterbildung\\generative_al_project\\.venv\\lib\\site-packages (from datasets) (3.11.16)\n",
      "Requirement already satisfied: click!=8.0.0,>=7.1 in c:\\users\\hshakademie7\\desktop\\intocode weiterbildung\\generative_al_project\\.venv\\lib\\site-packages (from wandb) (8.1.8)\n",
      "Requirement already satisfied: docker-pycreds>=0.4.0 in c:\\users\\hshakademie7\\desktop\\intocode weiterbildung\\generative_al_project\\.venv\\lib\\site-packages (from wandb) (0.4.0)\n",
      "Requirement already satisfied: gitpython!=3.1.29,>=1.0.0 in c:\\users\\hshakademie7\\desktop\\intocode weiterbildung\\generative_al_project\\.venv\\lib\\site-packages (from wandb) (3.1.44)\n",
      "Requirement already satisfied: platformdirs in c:\\users\\hshakademie7\\desktop\\intocode weiterbildung\\generative_al_project\\.venv\\lib\\site-packages (from wandb) (4.3.7)\n",
      "Requirement already satisfied: protobuf!=4.21.0,!=5.28.0,<6,>=3.19.0 in c:\\users\\hshakademie7\\desktop\\intocode weiterbildung\\generative_al_project\\.venv\\lib\\site-packages (from wandb) (5.29.4)\n",
      "Requirement already satisfied: psutil>=5.0.0 in c:\\users\\hshakademie7\\desktop\\intocode weiterbildung\\generative_al_project\\.venv\\lib\\site-packages (from wandb) (7.0.0)\n",
      "Requirement already satisfied: pydantic<3 in c:\\users\\hshakademie7\\desktop\\intocode weiterbildung\\generative_al_project\\.venv\\lib\\site-packages (from wandb) (2.11.3)\n",
      "Requirement already satisfied: sentry-sdk>=2.0.0 in c:\\users\\hshakademie7\\desktop\\intocode weiterbildung\\generative_al_project\\.venv\\lib\\site-packages (from wandb) (2.25.1)\n",
      "Requirement already satisfied: setproctitle in c:\\users\\hshakademie7\\desktop\\intocode weiterbildung\\generative_al_project\\.venv\\lib\\site-packages (from wandb) (1.3.5)\n",
      "Requirement already satisfied: colorama in c:\\users\\hshakademie7\\desktop\\intocode weiterbildung\\generative_al_project\\.venv\\lib\\site-packages (from click!=8.0.0,>=7.1->wandb) (0.4.6)\n",
      "Requirement already satisfied: six>=1.4.0 in c:\\users\\hshakademie7\\desktop\\intocode weiterbildung\\generative_al_project\\.venv\\lib\\site-packages (from docker-pycreds>=0.4.0->wandb) (1.17.0)\n",
      "Requirement already satisfied: aiohappyeyeballs>=2.3.0 in c:\\users\\hshakademie7\\desktop\\intocode weiterbildung\\generative_al_project\\.venv\\lib\\site-packages (from aiohttp->datasets) (2.6.1)\n",
      "Requirement already satisfied: aiosignal>=1.1.2 in c:\\users\\hshakademie7\\desktop\\intocode weiterbildung\\generative_al_project\\.venv\\lib\\site-packages (from aiohttp->datasets) (1.3.2)\n",
      "Requirement already satisfied: attrs>=17.3.0 in c:\\users\\hshakademie7\\desktop\\intocode weiterbildung\\generative_al_project\\.venv\\lib\\site-packages (from aiohttp->datasets) (25.3.0)\n",
      "Requirement already satisfied: frozenlist>=1.1.1 in c:\\users\\hshakademie7\\desktop\\intocode weiterbildung\\generative_al_project\\.venv\\lib\\site-packages (from aiohttp->datasets) (1.5.0)\n",
      "Requirement already satisfied: multidict<7.0,>=4.5 in c:\\users\\hshakademie7\\desktop\\intocode weiterbildung\\generative_al_project\\.venv\\lib\\site-packages (from aiohttp->datasets) (6.4.3)\n",
      "Requirement already satisfied: propcache>=0.2.0 in c:\\users\\hshakademie7\\desktop\\intocode weiterbildung\\generative_al_project\\.venv\\lib\\site-packages (from aiohttp->datasets) (0.3.1)\n",
      "Requirement already satisfied: yarl<2.0,>=1.17.0 in c:\\users\\hshakademie7\\desktop\\intocode weiterbildung\\generative_al_project\\.venv\\lib\\site-packages (from aiohttp->datasets) (1.19.0)\n",
      "Requirement already satisfied: gitdb<5,>=4.0.1 in c:\\users\\hshakademie7\\desktop\\intocode weiterbildung\\generative_al_project\\.venv\\lib\\site-packages (from gitpython!=3.1.29,>=1.0.0->wandb) (4.0.12)\n",
      "Requirement already satisfied: annotated-types>=0.6.0 in c:\\users\\hshakademie7\\desktop\\intocode weiterbildung\\generative_al_project\\.venv\\lib\\site-packages (from pydantic<3->wandb) (0.7.0)\n",
      "Requirement already satisfied: pydantic-core==2.33.1 in c:\\users\\hshakademie7\\desktop\\intocode weiterbildung\\generative_al_project\\.venv\\lib\\site-packages (from pydantic<3->wandb) (2.33.1)\n",
      "Requirement already satisfied: typing-inspection>=0.4.0 in c:\\users\\hshakademie7\\desktop\\intocode weiterbildung\\generative_al_project\\.venv\\lib\\site-packages (from pydantic<3->wandb) (0.4.0)\n",
      "Requirement already satisfied: charset-normalizer<4,>=2 in c:\\users\\hshakademie7\\desktop\\intocode weiterbildung\\generative_al_project\\.venv\\lib\\site-packages (from requests->transformers) (3.4.1)\n",
      "Requirement already satisfied: idna<4,>=2.5 in c:\\users\\hshakademie7\\desktop\\intocode weiterbildung\\generative_al_project\\.venv\\lib\\site-packages (from requests->transformers) (3.10)\n",
      "Requirement already satisfied: urllib3<3,>=1.21.1 in c:\\users\\hshakademie7\\desktop\\intocode weiterbildung\\generative_al_project\\.venv\\lib\\site-packages (from requests->transformers) (2.4.0)\n",
      "Requirement already satisfied: certifi>=2017.4.17 in c:\\users\\hshakademie7\\desktop\\intocode weiterbildung\\generative_al_project\\.venv\\lib\\site-packages (from requests->transformers) (2025.1.31)\n",
      "Requirement already satisfied: MarkupSafe>=2.0 in c:\\users\\hshakademie7\\desktop\\intocode weiterbildung\\generative_al_project\\.venv\\lib\\site-packages (from jinja2->torch) (3.0.2)\n",
      "Requirement already satisfied: python-dateutil>=2.8.2 in c:\\users\\hshakademie7\\desktop\\intocode weiterbildung\\generative_al_project\\.venv\\lib\\site-packages (from pandas->datasets) (2.9.0.post0)\n",
      "Requirement already satisfied: pytz>=2020.1 in c:\\users\\hshakademie7\\desktop\\intocode weiterbildung\\generative_al_project\\.venv\\lib\\site-packages (from pandas->datasets) (2025.2)\n",
      "Requirement already satisfied: tzdata>=2022.7 in c:\\users\\hshakademie7\\desktop\\intocode weiterbildung\\generative_al_project\\.venv\\lib\\site-packages (from pandas->datasets) (2025.2)\n",
      "Requirement already satisfied: smmap<6,>=3.0.1 in c:\\users\\hshakademie7\\desktop\\intocode weiterbildung\\generative_al_project\\.venv\\lib\\site-packages (from gitdb<5,>=4.0.1->gitpython!=3.1.29,>=1.0.0->wandb) (5.0.2)\n",
      "Note: you may need to restart the kernel to use updated packages.\n",
      "Requirement already satisfied: setuptools in c:\\users\\hshakademie7\\desktop\\intocode weiterbildung\\generative_al_project\\.venv\\lib\\site-packages (78.1.0)\n",
      "Note: you may need to restart the kernel to use updated packages.\n",
      "Requirement already satisfied: wheel in c:\\users\\hshakademie7\\desktop\\intocode weiterbildung\\generative_al_project\\.venv\\lib\\site-packages (0.45.1)\n",
      "Note: you may need to restart the kernel to use updated packages.\n",
      "Requirement already satisfied: wandb in c:\\users\\hshakademie7\\desktop\\intocode weiterbildung\\generative_al_project\\.venv\\lib\\site-packages (0.19.9)\n",
      "Requirement already satisfied: click!=8.0.0,>=7.1 in c:\\users\\hshakademie7\\desktop\\intocode weiterbildung\\generative_al_project\\.venv\\lib\\site-packages (from wandb) (8.1.8)\n",
      "Requirement already satisfied: docker-pycreds>=0.4.0 in c:\\users\\hshakademie7\\desktop\\intocode weiterbildung\\generative_al_project\\.venv\\lib\\site-packages (from wandb) (0.4.0)\n",
      "Requirement already satisfied: gitpython!=3.1.29,>=1.0.0 in c:\\users\\hshakademie7\\desktop\\intocode weiterbildung\\generative_al_project\\.venv\\lib\\site-packages (from wandb) (3.1.44)\n",
      "Requirement already satisfied: platformdirs in c:\\users\\hshakademie7\\desktop\\intocode weiterbildung\\generative_al_project\\.venv\\lib\\site-packages (from wandb) (4.3.7)\n",
      "Requirement already satisfied: protobuf!=4.21.0,!=5.28.0,<6,>=3.19.0 in c:\\users\\hshakademie7\\desktop\\intocode weiterbildung\\generative_al_project\\.venv\\lib\\site-packages (from wandb) (5.29.4)\n",
      "Requirement already satisfied: psutil>=5.0.0 in c:\\users\\hshakademie7\\desktop\\intocode weiterbildung\\generative_al_project\\.venv\\lib\\site-packages (from wandb) (7.0.0)\n",
      "Requirement already satisfied: pydantic<3 in c:\\users\\hshakademie7\\desktop\\intocode weiterbildung\\generative_al_project\\.venv\\lib\\site-packages (from wandb) (2.11.3)\n",
      "Requirement already satisfied: pyyaml in c:\\users\\hshakademie7\\desktop\\intocode weiterbildung\\generative_al_project\\.venv\\lib\\site-packages (from wandb) (6.0.2)\n",
      "Requirement already satisfied: requests<3,>=2.0.0 in c:\\users\\hshakademie7\\desktop\\intocode weiterbildung\\generative_al_project\\.venv\\lib\\site-packages (from wandb) (2.32.3)\n",
      "Requirement already satisfied: sentry-sdk>=2.0.0 in c:\\users\\hshakademie7\\desktop\\intocode weiterbildung\\generative_al_project\\.venv\\lib\\site-packages (from wandb) (2.25.1)\n",
      "Requirement already satisfied: setproctitle in c:\\users\\hshakademie7\\desktop\\intocode weiterbildung\\generative_al_project\\.venv\\lib\\site-packages (from wandb) (1.3.5)\n",
      "Requirement already satisfied: setuptools in c:\\users\\hshakademie7\\desktop\\intocode weiterbildung\\generative_al_project\\.venv\\lib\\site-packages (from wandb) (78.1.0)\n",
      "Requirement already satisfied: typing-extensions<5,>=4.4 in c:\\users\\hshakademie7\\desktop\\intocode weiterbildung\\generative_al_project\\.venv\\lib\\site-packages (from wandb) (4.13.2)\n",
      "Requirement already satisfied: colorama in c:\\users\\hshakademie7\\desktop\\intocode weiterbildung\\generative_al_project\\.venv\\lib\\site-packages (from click!=8.0.0,>=7.1->wandb) (0.4.6)\n",
      "Requirement already satisfied: six>=1.4.0 in c:\\users\\hshakademie7\\desktop\\intocode weiterbildung\\generative_al_project\\.venv\\lib\\site-packages (from docker-pycreds>=0.4.0->wandb) (1.17.0)\n",
      "Requirement already satisfied: gitdb<5,>=4.0.1 in c:\\users\\hshakademie7\\desktop\\intocode weiterbildung\\generative_al_project\\.venv\\lib\\site-packages (from gitpython!=3.1.29,>=1.0.0->wandb) (4.0.12)\n",
      "Requirement already satisfied: annotated-types>=0.6.0 in c:\\users\\hshakademie7\\desktop\\intocode weiterbildung\\generative_al_project\\.venv\\lib\\site-packages (from pydantic<3->wandb) (0.7.0)\n",
      "Requirement already satisfied: pydantic-core==2.33.1 in c:\\users\\hshakademie7\\desktop\\intocode weiterbildung\\generative_al_project\\.venv\\lib\\site-packages (from pydantic<3->wandb) (2.33.1)\n",
      "Requirement already satisfied: typing-inspection>=0.4.0 in c:\\users\\hshakademie7\\desktop\\intocode weiterbildung\\generative_al_project\\.venv\\lib\\site-packages (from pydantic<3->wandb) (0.4.0)\n",
      "Requirement already satisfied: charset-normalizer<4,>=2 in c:\\users\\hshakademie7\\desktop\\intocode weiterbildung\\generative_al_project\\.venv\\lib\\site-packages (from requests<3,>=2.0.0->wandb) (3.4.1)\n",
      "Requirement already satisfied: idna<4,>=2.5 in c:\\users\\hshakademie7\\desktop\\intocode weiterbildung\\generative_al_project\\.venv\\lib\\site-packages (from requests<3,>=2.0.0->wandb) (3.10)\n",
      "Requirement already satisfied: urllib3<3,>=1.21.1 in c:\\users\\hshakademie7\\desktop\\intocode weiterbildung\\generative_al_project\\.venv\\lib\\site-packages (from requests<3,>=2.0.0->wandb) (2.4.0)\n",
      "Requirement already satisfied: certifi>=2017.4.17 in c:\\users\\hshakademie7\\desktop\\intocode weiterbildung\\generative_al_project\\.venv\\lib\\site-packages (from requests<3,>=2.0.0->wandb) (2025.1.31)\n",
      "Requirement already satisfied: smmap<6,>=3.0.1 in c:\\users\\hshakademie7\\desktop\\intocode weiterbildung\\generative_al_project\\.venv\\lib\\site-packages (from gitdb<5,>=4.0.1->gitpython!=3.1.29,>=1.0.0->wandb) (5.0.2)\n",
      "Note: you may need to restart the kernel to use updated packages.\n",
      "Requirement already satisfied: huggingface_hub[hf_xet] in c:\\users\\hshakademie7\\desktop\\intocode weiterbildung\\generative_al_project\\.venv\\lib\\site-packages (0.30.2)\n",
      "Requirement already satisfied: filelock in c:\\users\\hshakademie7\\desktop\\intocode weiterbildung\\generative_al_project\\.venv\\lib\\site-packages (from huggingface_hub[hf_xet]) (3.18.0)\n",
      "Requirement already satisfied: fsspec>=2023.5.0 in c:\\users\\hshakademie7\\desktop\\intocode weiterbildung\\generative_al_project\\.venv\\lib\\site-packages (from huggingface_hub[hf_xet]) (2024.12.0)\n",
      "Requirement already satisfied: packaging>=20.9 in c:\\users\\hshakademie7\\desktop\\intocode weiterbildung\\generative_al_project\\.venv\\lib\\site-packages (from huggingface_hub[hf_xet]) (24.2)\n",
      "Requirement already satisfied: pyyaml>=5.1 in c:\\users\\hshakademie7\\desktop\\intocode weiterbildung\\generative_al_project\\.venv\\lib\\site-packages (from huggingface_hub[hf_xet]) (6.0.2)\n",
      "Requirement already satisfied: requests in c:\\users\\hshakademie7\\desktop\\intocode weiterbildung\\generative_al_project\\.venv\\lib\\site-packages (from huggingface_hub[hf_xet]) (2.32.3)\n",
      "Requirement already satisfied: tqdm>=4.42.1 in c:\\users\\hshakademie7\\desktop\\intocode weiterbildung\\generative_al_project\\.venv\\lib\\site-packages (from huggingface_hub[hf_xet]) (4.67.1)\n",
      "Requirement already satisfied: typing-extensions>=3.7.4.3 in c:\\users\\hshakademie7\\desktop\\intocode weiterbildung\\generative_al_project\\.venv\\lib\\site-packages (from huggingface_hub[hf_xet]) (4.13.2)\n",
      "Requirement already satisfied: hf-xet>=0.1.4 in c:\\users\\hshakademie7\\desktop\\intocode weiterbildung\\generative_al_project\\.venv\\lib\\site-packages (from huggingface_hub[hf_xet]) (1.0.3)\n",
      "Requirement already satisfied: colorama in c:\\users\\hshakademie7\\desktop\\intocode weiterbildung\\generative_al_project\\.venv\\lib\\site-packages (from tqdm>=4.42.1->huggingface_hub[hf_xet]) (0.4.6)\n",
      "Requirement already satisfied: charset-normalizer<4,>=2 in c:\\users\\hshakademie7\\desktop\\intocode weiterbildung\\generative_al_project\\.venv\\lib\\site-packages (from requests->huggingface_hub[hf_xet]) (3.4.1)\n",
      "Requirement already satisfied: idna<4,>=2.5 in c:\\users\\hshakademie7\\desktop\\intocode weiterbildung\\generative_al_project\\.venv\\lib\\site-packages (from requests->huggingface_hub[hf_xet]) (3.10)\n",
      "Requirement already satisfied: urllib3<3,>=1.21.1 in c:\\users\\hshakademie7\\desktop\\intocode weiterbildung\\generative_al_project\\.venv\\lib\\site-packages (from requests->huggingface_hub[hf_xet]) (2.4.0)\n",
      "Requirement already satisfied: certifi>=2017.4.17 in c:\\users\\hshakademie7\\desktop\\intocode weiterbildung\\generative_al_project\\.venv\\lib\\site-packages (from requests->huggingface_hub[hf_xet]) (2025.1.31)\n",
      "Note: you may need to restart the kernel to use updated packages.\n"
     ]
    }
   ],
   "source": [
    "%pip install torch transformers datasets wandb\n",
    "%pip install setuptools\n",
    "%pip install wheel\n",
    "%pip install wandb\n",
    "%pip install huggingface_hub[hf_xet]\n",
    "\n"
   ]
  },
  {
   "cell_type": "markdown",
   "id": "88aa7d08",
   "metadata": {},
   "source": [
    "#importing libralies"
   ]
  },
  {
   "cell_type": "code",
   "execution_count": 3,
   "id": "f9957026",
   "metadata": {},
   "outputs": [
    {
     "name": "stderr",
     "output_type": "stream",
     "text": [
      "c:\\Users\\hshakademie7\\Desktop\\INTOCODE WEITERBILDUNG\\Generative_Al_project\\.venv\\Lib\\site-packages\\tqdm\\auto.py:21: TqdmWarning: IProgress not found. Please update jupyter and ipywidgets. See https://ipywidgets.readthedocs.io/en/stable/user_install.html\n",
      "  from .autonotebook import tqdm as notebook_tqdm\n"
     ]
    }
   ],
   "source": [
    "import torch\n",
    "import torch.nn as nn\n",
    "import torch.nn.functional as F\n",
    "from transformers import GPT2Tokenizer\n",
    "from datasets import load_dataset\n",
    "import wandb\n",
    "from huggingface_hub import HfApi, HfFolder, Repository\n",
    "import os\n",
    "import random"
   ]
  }
 ],
 "metadata": {
  "kernelspec": {
   "display_name": ".venv",
   "language": "python",
   "name": "python3"
  },
  "language_info": {
   "codemirror_mode": {
    "name": "ipython",
    "version": 3
   },
   "file_extension": ".py",
   "mimetype": "text/x-python",
   "name": "python",
   "nbconvert_exporter": "python",
   "pygments_lexer": "ipython3",
   "version": "3.13.1"
  }
 },
 "nbformat": 4,
 "nbformat_minor": 5
}

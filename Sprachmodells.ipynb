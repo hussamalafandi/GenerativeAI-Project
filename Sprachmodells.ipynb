{
 "cells": [
  {
   "cell_type": "markdown",
   "id": "61d724cf",
   "metadata": {},
   "source": [
    "## Installing required libraries"
   ]
  },
  {
   "cell_type": "code",
   "execution_count": 5,
   "id": "0cb14b70",
   "metadata": {},
   "outputs": [
    {
     "name": "stdout",
     "output_type": "stream",
     "text": [
      "Requirement already satisfied: torch in c:\\users\\hshakademie7\\desktop\\intocode weiterbildung\\generative_al_project\\.venv\\lib\\site-packages (2.6.0)\n",
      "Requirement already satisfied: transformers in c:\\users\\hshakademie7\\desktop\\intocode weiterbildung\\generative_al_project\\.venv\\lib\\site-packages (4.51.2)\n",
      "Requirement already satisfied: datasets in c:\\users\\hshakademie7\\desktop\\intocode weiterbildung\\generative_al_project\\.venv\\lib\\site-packages (3.5.0)\n",
      "Requirement already satisfied: wandb in c:\\users\\hshakademie7\\desktop\\intocode weiterbildung\\generative_al_project\\.venv\\lib\\site-packages (0.19.9)\n",
      "Requirement already satisfied: filelock in c:\\users\\hshakademie7\\desktop\\intocode weiterbildung\\generative_al_project\\.venv\\lib\\site-packages (from torch) (3.18.0)\n",
      "Requirement already satisfied: typing-extensions>=4.10.0 in c:\\users\\hshakademie7\\desktop\\intocode weiterbildung\\generative_al_project\\.venv\\lib\\site-packages (from torch) (4.13.2)\n",
      "Requirement already satisfied: networkx in c:\\users\\hshakademie7\\desktop\\intocode weiterbildung\\generative_al_project\\.venv\\lib\\site-packages (from torch) (3.4.2)\n",
      "Requirement already satisfied: jinja2 in c:\\users\\hshakademie7\\desktop\\intocode weiterbildung\\generative_al_project\\.venv\\lib\\site-packages (from torch) (3.1.6)\n",
      "Requirement already satisfied: fsspec in c:\\users\\hshakademie7\\desktop\\intocode weiterbildung\\generative_al_project\\.venv\\lib\\site-packages (from torch) (2024.12.0)\n",
      "Requirement already satisfied: setuptools in c:\\users\\hshakademie7\\desktop\\intocode weiterbildung\\generative_al_project\\.venv\\lib\\site-packages (from torch) (78.1.0)\n",
      "Requirement already satisfied: sympy==1.13.1 in c:\\users\\hshakademie7\\desktop\\intocode weiterbildung\\generative_al_project\\.venv\\lib\\site-packages (from torch) (1.13.1)\n",
      "Requirement already satisfied: mpmath<1.4,>=1.1.0 in c:\\users\\hshakademie7\\desktop\\intocode weiterbildung\\generative_al_project\\.venv\\lib\\site-packages (from sympy==1.13.1->torch) (1.3.0)\n",
      "Requirement already satisfied: huggingface-hub<1.0,>=0.30.0 in c:\\users\\hshakademie7\\desktop\\intocode weiterbildung\\generative_al_project\\.venv\\lib\\site-packages (from transformers) (0.30.2)\n",
      "Requirement already satisfied: numpy>=1.17 in c:\\users\\hshakademie7\\desktop\\intocode weiterbildung\\generative_al_project\\.venv\\lib\\site-packages (from transformers) (2.2.4)\n",
      "Requirement already satisfied: packaging>=20.0 in c:\\users\\hshakademie7\\desktop\\intocode weiterbildung\\generative_al_project\\.venv\\lib\\site-packages (from transformers) (24.2)\n",
      "Requirement already satisfied: pyyaml>=5.1 in c:\\users\\hshakademie7\\desktop\\intocode weiterbildung\\generative_al_project\\.venv\\lib\\site-packages (from transformers) (6.0.2)\n",
      "Requirement already satisfied: regex!=2019.12.17 in c:\\users\\hshakademie7\\desktop\\intocode weiterbildung\\generative_al_project\\.venv\\lib\\site-packages (from transformers) (2024.11.6)\n",
      "Requirement already satisfied: requests in c:\\users\\hshakademie7\\desktop\\intocode weiterbildung\\generative_al_project\\.venv\\lib\\site-packages (from transformers) (2.32.3)\n",
      "Requirement already satisfied: tokenizers<0.22,>=0.21 in c:\\users\\hshakademie7\\desktop\\intocode weiterbildung\\generative_al_project\\.venv\\lib\\site-packages (from transformers) (0.21.1)\n",
      "Requirement already satisfied: safetensors>=0.4.3 in c:\\users\\hshakademie7\\desktop\\intocode weiterbildung\\generative_al_project\\.venv\\lib\\site-packages (from transformers) (0.5.3)\n",
      "Requirement already satisfied: tqdm>=4.27 in c:\\users\\hshakademie7\\desktop\\intocode weiterbildung\\generative_al_project\\.venv\\lib\\site-packages (from transformers) (4.67.1)\n",
      "Requirement already satisfied: pyarrow>=15.0.0 in c:\\users\\hshakademie7\\desktop\\intocode weiterbildung\\generative_al_project\\.venv\\lib\\site-packages (from datasets) (19.0.1)\n",
      "Requirement already satisfied: dill<0.3.9,>=0.3.0 in c:\\users\\hshakademie7\\desktop\\intocode weiterbildung\\generative_al_project\\.venv\\lib\\site-packages (from datasets) (0.3.8)\n",
      "Requirement already satisfied: pandas in c:\\users\\hshakademie7\\desktop\\intocode weiterbildung\\generative_al_project\\.venv\\lib\\site-packages (from datasets) (2.2.3)\n",
      "Requirement already satisfied: xxhash in c:\\users\\hshakademie7\\desktop\\intocode weiterbildung\\generative_al_project\\.venv\\lib\\site-packages (from datasets) (3.5.0)\n",
      "Requirement already satisfied: multiprocess<0.70.17 in c:\\users\\hshakademie7\\desktop\\intocode weiterbildung\\generative_al_project\\.venv\\lib\\site-packages (from datasets) (0.70.16)\n",
      "Requirement already satisfied: aiohttp in c:\\users\\hshakademie7\\desktop\\intocode weiterbildung\\generative_al_project\\.venv\\lib\\site-packages (from datasets) (3.11.16)\n",
      "Requirement already satisfied: click!=8.0.0,>=7.1 in c:\\users\\hshakademie7\\desktop\\intocode weiterbildung\\generative_al_project\\.venv\\lib\\site-packages (from wandb) (8.1.8)\n",
      "Requirement already satisfied: docker-pycreds>=0.4.0 in c:\\users\\hshakademie7\\desktop\\intocode weiterbildung\\generative_al_project\\.venv\\lib\\site-packages (from wandb) (0.4.0)\n",
      "Requirement already satisfied: gitpython!=3.1.29,>=1.0.0 in c:\\users\\hshakademie7\\desktop\\intocode weiterbildung\\generative_al_project\\.venv\\lib\\site-packages (from wandb) (3.1.44)\n",
      "Requirement already satisfied: platformdirs in c:\\users\\hshakademie7\\desktop\\intocode weiterbildung\\generative_al_project\\.venv\\lib\\site-packages (from wandb) (4.3.7)\n",
      "Requirement already satisfied: protobuf!=4.21.0,!=5.28.0,<6,>=3.19.0 in c:\\users\\hshakademie7\\desktop\\intocode weiterbildung\\generative_al_project\\.venv\\lib\\site-packages (from wandb) (5.29.4)\n",
      "Requirement already satisfied: psutil>=5.0.0 in c:\\users\\hshakademie7\\desktop\\intocode weiterbildung\\generative_al_project\\.venv\\lib\\site-packages (from wandb) (7.0.0)\n",
      "Requirement already satisfied: pydantic<3 in c:\\users\\hshakademie7\\desktop\\intocode weiterbildung\\generative_al_project\\.venv\\lib\\site-packages (from wandb) (2.11.3)\n",
      "Requirement already satisfied: sentry-sdk>=2.0.0 in c:\\users\\hshakademie7\\desktop\\intocode weiterbildung\\generative_al_project\\.venv\\lib\\site-packages (from wandb) (2.25.1)\n",
      "Requirement already satisfied: setproctitle in c:\\users\\hshakademie7\\desktop\\intocode weiterbildung\\generative_al_project\\.venv\\lib\\site-packages (from wandb) (1.3.5)\n",
      "Requirement already satisfied: colorama in c:\\users\\hshakademie7\\desktop\\intocode weiterbildung\\generative_al_project\\.venv\\lib\\site-packages (from click!=8.0.0,>=7.1->wandb) (0.4.6)\n",
      "Requirement already satisfied: six>=1.4.0 in c:\\users\\hshakademie7\\desktop\\intocode weiterbildung\\generative_al_project\\.venv\\lib\\site-packages (from docker-pycreds>=0.4.0->wandb) (1.17.0)\n",
      "Requirement already satisfied: aiohappyeyeballs>=2.3.0 in c:\\users\\hshakademie7\\desktop\\intocode weiterbildung\\generative_al_project\\.venv\\lib\\site-packages (from aiohttp->datasets) (2.6.1)\n",
      "Requirement already satisfied: aiosignal>=1.1.2 in c:\\users\\hshakademie7\\desktop\\intocode weiterbildung\\generative_al_project\\.venv\\lib\\site-packages (from aiohttp->datasets) (1.3.2)\n",
      "Requirement already satisfied: attrs>=17.3.0 in c:\\users\\hshakademie7\\desktop\\intocode weiterbildung\\generative_al_project\\.venv\\lib\\site-packages (from aiohttp->datasets) (25.3.0)\n",
      "Requirement already satisfied: frozenlist>=1.1.1 in c:\\users\\hshakademie7\\desktop\\intocode weiterbildung\\generative_al_project\\.venv\\lib\\site-packages (from aiohttp->datasets) (1.5.0)\n",
      "Requirement already satisfied: multidict<7.0,>=4.5 in c:\\users\\hshakademie7\\desktop\\intocode weiterbildung\\generative_al_project\\.venv\\lib\\site-packages (from aiohttp->datasets) (6.4.3)\n",
      "Requirement already satisfied: propcache>=0.2.0 in c:\\users\\hshakademie7\\desktop\\intocode weiterbildung\\generative_al_project\\.venv\\lib\\site-packages (from aiohttp->datasets) (0.3.1)\n",
      "Requirement already satisfied: yarl<2.0,>=1.17.0 in c:\\users\\hshakademie7\\desktop\\intocode weiterbildung\\generative_al_project\\.venv\\lib\\site-packages (from aiohttp->datasets) (1.19.0)\n",
      "Requirement already satisfied: gitdb<5,>=4.0.1 in c:\\users\\hshakademie7\\desktop\\intocode weiterbildung\\generative_al_project\\.venv\\lib\\site-packages (from gitpython!=3.1.29,>=1.0.0->wandb) (4.0.12)\n",
      "Requirement already satisfied: annotated-types>=0.6.0 in c:\\users\\hshakademie7\\desktop\\intocode weiterbildung\\generative_al_project\\.venv\\lib\\site-packages (from pydantic<3->wandb) (0.7.0)\n",
      "Requirement already satisfied: pydantic-core==2.33.1 in c:\\users\\hshakademie7\\desktop\\intocode weiterbildung\\generative_al_project\\.venv\\lib\\site-packages (from pydantic<3->wandb) (2.33.1)\n",
      "Requirement already satisfied: typing-inspection>=0.4.0 in c:\\users\\hshakademie7\\desktop\\intocode weiterbildung\\generative_al_project\\.venv\\lib\\site-packages (from pydantic<3->wandb) (0.4.0)\n",
      "Requirement already satisfied: charset-normalizer<4,>=2 in c:\\users\\hshakademie7\\desktop\\intocode weiterbildung\\generative_al_project\\.venv\\lib\\site-packages (from requests->transformers) (3.4.1)\n",
      "Requirement already satisfied: idna<4,>=2.5 in c:\\users\\hshakademie7\\desktop\\intocode weiterbildung\\generative_al_project\\.venv\\lib\\site-packages (from requests->transformers) (3.10)\n",
      "Requirement already satisfied: urllib3<3,>=1.21.1 in c:\\users\\hshakademie7\\desktop\\intocode weiterbildung\\generative_al_project\\.venv\\lib\\site-packages (from requests->transformers) (2.4.0)\n",
      "Requirement already satisfied: certifi>=2017.4.17 in c:\\users\\hshakademie7\\desktop\\intocode weiterbildung\\generative_al_project\\.venv\\lib\\site-packages (from requests->transformers) (2025.1.31)\n",
      "Requirement already satisfied: MarkupSafe>=2.0 in c:\\users\\hshakademie7\\desktop\\intocode weiterbildung\\generative_al_project\\.venv\\lib\\site-packages (from jinja2->torch) (3.0.2)\n",
      "Requirement already satisfied: python-dateutil>=2.8.2 in c:\\users\\hshakademie7\\desktop\\intocode weiterbildung\\generative_al_project\\.venv\\lib\\site-packages (from pandas->datasets) (2.9.0.post0)\n",
      "Requirement already satisfied: pytz>=2020.1 in c:\\users\\hshakademie7\\desktop\\intocode weiterbildung\\generative_al_project\\.venv\\lib\\site-packages (from pandas->datasets) (2025.2)\n",
      "Requirement already satisfied: tzdata>=2022.7 in c:\\users\\hshakademie7\\desktop\\intocode weiterbildung\\generative_al_project\\.venv\\lib\\site-packages (from pandas->datasets) (2025.2)\n",
      "Requirement already satisfied: smmap<6,>=3.0.1 in c:\\users\\hshakademie7\\desktop\\intocode weiterbildung\\generative_al_project\\.venv\\lib\\site-packages (from gitdb<5,>=4.0.1->gitpython!=3.1.29,>=1.0.0->wandb) (5.0.2)\n",
      "Note: you may need to restart the kernel to use updated packages.\n"
     ]
    }
   ],
   "source": [
    "%pip install torch transformers datasets wandb\n",
    "\n",
    "\n"
   ]
  },
  {
   "cell_type": "code",
   "execution_count": 4,
   "id": "16ad5df3",
   "metadata": {},
   "outputs": [
    {
     "name": "stdout",
     "output_type": "stream",
     "text": [
      "Requirement already satisfied: setuptools in c:\\users\\hshakademie7\\desktop\\intocode weiterbildung\\generative_al_project\\.venv\\lib\\site-packages (78.1.0)\n",
      "Note: you may need to restart the kernel to use updated packages.\n",
      "Requirement already satisfied: wheel in c:\\users\\hshakademie7\\desktop\\intocode weiterbildung\\generative_al_project\\.venv\\lib\\site-packages (0.45.1)\n",
      "Note: you may need to restart the kernel to use updated packages.\n",
      "Requirement already satisfied: wandb in c:\\users\\hshakademie7\\desktop\\intocode weiterbildung\\generative_al_project\\.venv\\lib\\site-packages (0.19.9)\n",
      "Requirement already satisfied: click!=8.0.0,>=7.1 in c:\\users\\hshakademie7\\desktop\\intocode weiterbildung\\generative_al_project\\.venv\\lib\\site-packages (from wandb) (8.1.8)\n",
      "Requirement already satisfied: docker-pycreds>=0.4.0 in c:\\users\\hshakademie7\\desktop\\intocode weiterbildung\\generative_al_project\\.venv\\lib\\site-packages (from wandb) (0.4.0)\n",
      "Requirement already satisfied: gitpython!=3.1.29,>=1.0.0 in c:\\users\\hshakademie7\\desktop\\intocode weiterbildung\\generative_al_project\\.venv\\lib\\site-packages (from wandb) (3.1.44)\n",
      "Requirement already satisfied: platformdirs in c:\\users\\hshakademie7\\desktop\\intocode weiterbildung\\generative_al_project\\.venv\\lib\\site-packages (from wandb) (4.3.7)\n",
      "Requirement already satisfied: protobuf!=4.21.0,!=5.28.0,<6,>=3.19.0 in c:\\users\\hshakademie7\\desktop\\intocode weiterbildung\\generative_al_project\\.venv\\lib\\site-packages (from wandb) (5.29.4)\n",
      "Requirement already satisfied: psutil>=5.0.0 in c:\\users\\hshakademie7\\desktop\\intocode weiterbildung\\generative_al_project\\.venv\\lib\\site-packages (from wandb) (7.0.0)\n",
      "Requirement already satisfied: pydantic<3 in c:\\users\\hshakademie7\\desktop\\intocode weiterbildung\\generative_al_project\\.venv\\lib\\site-packages (from wandb) (2.11.3)\n",
      "Requirement already satisfied: pyyaml in c:\\users\\hshakademie7\\desktop\\intocode weiterbildung\\generative_al_project\\.venv\\lib\\site-packages (from wandb) (6.0.2)\n",
      "Requirement already satisfied: requests<3,>=2.0.0 in c:\\users\\hshakademie7\\desktop\\intocode weiterbildung\\generative_al_project\\.venv\\lib\\site-packages (from wandb) (2.32.3)\n",
      "Requirement already satisfied: sentry-sdk>=2.0.0 in c:\\users\\hshakademie7\\desktop\\intocode weiterbildung\\generative_al_project\\.venv\\lib\\site-packages (from wandb) (2.25.1)\n",
      "Requirement already satisfied: setproctitle in c:\\users\\hshakademie7\\desktop\\intocode weiterbildung\\generative_al_project\\.venv\\lib\\site-packages (from wandb) (1.3.5)\n",
      "Requirement already satisfied: setuptools in c:\\users\\hshakademie7\\desktop\\intocode weiterbildung\\generative_al_project\\.venv\\lib\\site-packages (from wandb) (78.1.0)\n",
      "Requirement already satisfied: typing-extensions<5,>=4.4 in c:\\users\\hshakademie7\\desktop\\intocode weiterbildung\\generative_al_project\\.venv\\lib\\site-packages (from wandb) (4.13.2)\n",
      "Requirement already satisfied: colorama in c:\\users\\hshakademie7\\desktop\\intocode weiterbildung\\generative_al_project\\.venv\\lib\\site-packages (from click!=8.0.0,>=7.1->wandb) (0.4.6)\n",
      "Requirement already satisfied: six>=1.4.0 in c:\\users\\hshakademie7\\desktop\\intocode weiterbildung\\generative_al_project\\.venv\\lib\\site-packages (from docker-pycreds>=0.4.0->wandb) (1.17.0)\n",
      "Requirement already satisfied: gitdb<5,>=4.0.1 in c:\\users\\hshakademie7\\desktop\\intocode weiterbildung\\generative_al_project\\.venv\\lib\\site-packages (from gitpython!=3.1.29,>=1.0.0->wandb) (4.0.12)\n",
      "Requirement already satisfied: annotated-types>=0.6.0 in c:\\users\\hshakademie7\\desktop\\intocode weiterbildung\\generative_al_project\\.venv\\lib\\site-packages (from pydantic<3->wandb) (0.7.0)\n",
      "Requirement already satisfied: pydantic-core==2.33.1 in c:\\users\\hshakademie7\\desktop\\intocode weiterbildung\\generative_al_project\\.venv\\lib\\site-packages (from pydantic<3->wandb) (2.33.1)\n",
      "Requirement already satisfied: typing-inspection>=0.4.0 in c:\\users\\hshakademie7\\desktop\\intocode weiterbildung\\generative_al_project\\.venv\\lib\\site-packages (from pydantic<3->wandb) (0.4.0)\n",
      "Requirement already satisfied: charset-normalizer<4,>=2 in c:\\users\\hshakademie7\\desktop\\intocode weiterbildung\\generative_al_project\\.venv\\lib\\site-packages (from requests<3,>=2.0.0->wandb) (3.4.1)\n",
      "Requirement already satisfied: idna<4,>=2.5 in c:\\users\\hshakademie7\\desktop\\intocode weiterbildung\\generative_al_project\\.venv\\lib\\site-packages (from requests<3,>=2.0.0->wandb) (3.10)\n",
      "Requirement already satisfied: urllib3<3,>=1.21.1 in c:\\users\\hshakademie7\\desktop\\intocode weiterbildung\\generative_al_project\\.venv\\lib\\site-packages (from requests<3,>=2.0.0->wandb) (2.4.0)\n",
      "Requirement already satisfied: certifi>=2017.4.17 in c:\\users\\hshakademie7\\desktop\\intocode weiterbildung\\generative_al_project\\.venv\\lib\\site-packages (from requests<3,>=2.0.0->wandb) (2025.1.31)\n",
      "Requirement already satisfied: smmap<6,>=3.0.1 in c:\\users\\hshakademie7\\desktop\\intocode weiterbildung\\generative_al_project\\.venv\\lib\\site-packages (from gitdb<5,>=4.0.1->gitpython!=3.1.29,>=1.0.0->wandb) (5.0.2)\n",
      "Note: you may need to restart the kernel to use updated packages.\n",
      "Requirement already satisfied: huggingface_hub[hf_xet] in c:\\users\\hshakademie7\\desktop\\intocode weiterbildung\\generative_al_project\\.venv\\lib\\site-packages (0.30.2)\n",
      "Requirement already satisfied: filelock in c:\\users\\hshakademie7\\desktop\\intocode weiterbildung\\generative_al_project\\.venv\\lib\\site-packages (from huggingface_hub[hf_xet]) (3.18.0)\n",
      "Requirement already satisfied: fsspec>=2023.5.0 in c:\\users\\hshakademie7\\desktop\\intocode weiterbildung\\generative_al_project\\.venv\\lib\\site-packages (from huggingface_hub[hf_xet]) (2024.12.0)\n",
      "Requirement already satisfied: packaging>=20.9 in c:\\users\\hshakademie7\\desktop\\intocode weiterbildung\\generative_al_project\\.venv\\lib\\site-packages (from huggingface_hub[hf_xet]) (24.2)\n",
      "Requirement already satisfied: pyyaml>=5.1 in c:\\users\\hshakademie7\\desktop\\intocode weiterbildung\\generative_al_project\\.venv\\lib\\site-packages (from huggingface_hub[hf_xet]) (6.0.2)\n",
      "Requirement already satisfied: requests in c:\\users\\hshakademie7\\desktop\\intocode weiterbildung\\generative_al_project\\.venv\\lib\\site-packages (from huggingface_hub[hf_xet]) (2.32.3)\n",
      "Requirement already satisfied: tqdm>=4.42.1 in c:\\users\\hshakademie7\\desktop\\intocode weiterbildung\\generative_al_project\\.venv\\lib\\site-packages (from huggingface_hub[hf_xet]) (4.67.1)\n",
      "Requirement already satisfied: typing-extensions>=3.7.4.3 in c:\\users\\hshakademie7\\desktop\\intocode weiterbildung\\generative_al_project\\.venv\\lib\\site-packages (from huggingface_hub[hf_xet]) (4.13.2)\n",
      "Requirement already satisfied: hf-xet>=0.1.4 in c:\\users\\hshakademie7\\desktop\\intocode weiterbildung\\generative_al_project\\.venv\\lib\\site-packages (from huggingface_hub[hf_xet]) (1.0.3)\n",
      "Requirement already satisfied: colorama in c:\\users\\hshakademie7\\desktop\\intocode weiterbildung\\generative_al_project\\.venv\\lib\\site-packages (from tqdm>=4.42.1->huggingface_hub[hf_xet]) (0.4.6)\n",
      "Requirement already satisfied: charset-normalizer<4,>=2 in c:\\users\\hshakademie7\\desktop\\intocode weiterbildung\\generative_al_project\\.venv\\lib\\site-packages (from requests->huggingface_hub[hf_xet]) (3.4.1)\n",
      "Requirement already satisfied: idna<4,>=2.5 in c:\\users\\hshakademie7\\desktop\\intocode weiterbildung\\generative_al_project\\.venv\\lib\\site-packages (from requests->huggingface_hub[hf_xet]) (3.10)\n",
      "Requirement already satisfied: urllib3<3,>=1.21.1 in c:\\users\\hshakademie7\\desktop\\intocode weiterbildung\\generative_al_project\\.venv\\lib\\site-packages (from requests->huggingface_hub[hf_xet]) (2.4.0)\n",
      "Requirement already satisfied: certifi>=2017.4.17 in c:\\users\\hshakademie7\\desktop\\intocode weiterbildung\\generative_al_project\\.venv\\lib\\site-packages (from requests->huggingface_hub[hf_xet]) (2025.1.31)\n",
      "Note: you may need to restart the kernel to use updated packages.\n"
     ]
    }
   ],
   "source": [
    "%pip install setuptools\n",
    "%pip install wheel\n",
    "%pip install wandb\n",
    "%pip install huggingface_hub[hf_xet]"
   ]
  },
  {
   "cell_type": "markdown",
   "id": "88aa7d08",
   "metadata": {},
   "source": [
    "## importing libraries "
   ]
  },
  {
   "cell_type": "code",
   "execution_count": 6,
   "id": "f9957026",
   "metadata": {},
   "outputs": [],
   "source": [
    "import torch\n",
    "import torch.nn as nn\n",
    "import torch.nn.functional as F\n",
    "from transformers import GPT2Tokenizer\n",
    "from datasets import load_dataset\n",
    "import wandb\n",
    "from huggingface_hub import HfApi, HfFolder, Repository\n",
    "import os\n",
    "import random"
   ]
  },
  {
   "cell_type": "markdown",
   "id": "cfd3befa",
   "metadata": {},
   "source": [
    "## Configurations"
   ]
  },
  {
   "cell_type": "code",
   "execution_count": 7,
   "id": "ca42ca5f",
   "metadata": {},
   "outputs": [],
   "source": [
    "class Config:\n",
    "    block_size = 128\n",
    "    batch_size = 32\n",
    "    embed_dim = 128\n",
    "    num_heads = 4\n",
    "    num_layers = 2\n",
    "    dropout = 0.1\n",
    "    epochs = 5\n",
    "    lr = 1e-3\n",
    "    device = \"cuda\" if torch.cuda.is_available() else \"cpu\"\n",
    "    wandb_project = \"tiny-shakespeare-decoder-only\"\n",
    "    model_name = \"decoder-only-tinyshakespeare\"\n",
    "\n",
    "cfg = Config()\n",
    "\n"
   ]
  },
  {
   "cell_type": "markdown",
   "id": "6c8b0d05",
   "metadata": {},
   "source": [
    "## Preparing and Preparing Data"
   ]
  },
  {
   "cell_type": "code",
   "execution_count": 9,
   "id": "8f24a800",
   "metadata": {},
   "outputs": [],
   "source": [
    "import requests\n",
    "\n",
    "\n",
    "data_url = \"https://raw.githubusercontent.com/karpathy/char-rnn/master/data/tinyshakespeare/input.txt\"\n",
    "with open(\"shakespeare.txt\", \"w\") as f:\n",
    "    f.write(requests.get(data_url).text)\n",
    "\n",
    "with open(\"shakespeare.txt\", \"r\", encoding=\"utf-8\") as f:\n",
    "    text = f.read()\n",
    "from transformers import GPT2TokenizerFast"
   ]
  },
  {
   "cell_type": "markdown",
   "id": "91e56009",
   "metadata": {},
   "source": [
    "## Loading   Tokenizer \n"
   ]
  },
  {
   "cell_type": "code",
   "execution_count": 10,
   "id": "4ee6f513",
   "metadata": {},
   "outputs": [
    {
     "name": "stderr",
     "output_type": "stream",
     "text": [
      "Token indices sequence length is longer than the specified maximum sequence length for this model (338025 > 1024). Running this sequence through the model will result in indexing errors\n"
     ]
    }
   ],
   "source": [
    "\n",
    "tokenizer = GPT2TokenizerFast.from_pretrained(\"gpt2\")\n",
    "tokenizer.add_special_tokens({'pad_token': '[PAD]'})\n",
    "\n",
    "\n",
    "\n",
    "tokens = tokenizer(text, return_tensors=\"pt\")\n",
    "input_ids = tokens[\"input_ids\"].squeeze(0)"
   ]
  },
  {
   "cell_type": "markdown",
   "id": "6a39a4b8",
   "metadata": {},
   "source": [
    "## spliting dataset"
   ]
  },
  {
   "cell_type": "code",
   "execution_count": 11,
   "id": "3cfe4099",
   "metadata": {},
   "outputs": [],
   "source": [
    "\n",
    "n = int(0.9 * len(input_ids))\n",
    "train_ids = input_ids[:n]\n",
    "val_ids = input_ids[n:]\n",
    "\n",
    "def get_batch(data, block_size, batch_size):\n",
    "    if len(data) <= block_size:\n",
    "        raise ValueError(f\"Datensatz ist zu klein für block_size={block_size} (nur {len(data)} Tokens).\")\n",
    "\n",
    "    ix = torch.randint(len(data) - block_size, (batch_size,))\n",
    "    x = torch.stack([data[i:i+block_size] for i in ix])\n",
    "    y = torch.stack([data[i+1:i+block_size+1] for i in ix])\n",
    "    return x.to(cfg.device), y.to(cfg.device)\n",
    "\n"
   ]
  },
  {
   "cell_type": "markdown",
   "id": "0dc36e38",
   "metadata": {},
   "source": [
    "## Decoder-only Modell\n"
   ]
  },
  {
   "cell_type": "code",
   "execution_count": 12,
   "id": "1e422d9a",
   "metadata": {},
   "outputs": [],
   "source": [
    "\n",
    "class DecoderOnlyModel(nn.Module):\n",
    "    def __init__(self, vocab_size):\n",
    "        super().__init__()\n",
    "        self.embedding = nn.Embedding(vocab_size, cfg.embed_dim)\n",
    "        self.pos_embedding = nn.Parameter(torch.zeros(1, cfg.block_size, cfg.embed_dim))\n",
    "\n",
    "        decoder_layer = nn.TransformerDecoderLayer(d_model=cfg.embed_dim, nhead=cfg.num_heads, dropout=cfg.dropout)\n",
    "        self.decoder = nn.TransformerDecoder(decoder_layer, num_layers=cfg.num_layers)\n",
    "\n",
    "        self.output_proj = nn.Linear(cfg.embed_dim, vocab_size)\n",
    "\n",
    "    def forward(self, x):\n",
    "        tok_emb = self.embedding(x)\n",
    "        pos_emb = self.pos_embedding[:, :x.size(1), :]\n",
    "        x = tok_emb + pos_emb\n",
    "\n",
    "        tgt_mask = nn.Transformer.generate_square_subsequent_mask(x.size(1)).to(x.device)\n",
    "\n",
    "        # Autoregressives Target als sowohl memory als auch tgt\n",
    "        out = self.decoder(x.transpose(0, 1), x.transpose(0, 1), tgt_mask=tgt_mask)\n",
    "        logits = self.output_proj(out.transpose(0, 1))\n",
    "        return logits"
   ]
  }
 ],
 "metadata": {
  "kernelspec": {
   "display_name": ".venv",
   "language": "python",
   "name": "python3"
  },
  "language_info": {
   "codemirror_mode": {
    "name": "ipython",
    "version": 3
   },
   "file_extension": ".py",
   "mimetype": "text/x-python",
   "name": "python",
   "nbconvert_exporter": "python",
   "pygments_lexer": "ipython3",
   "version": "3.13.1"
  }
 },
 "nbformat": 4,
 "nbformat_minor": 5
}

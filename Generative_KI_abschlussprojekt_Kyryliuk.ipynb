{
 "cells": [
  {
   "cell_type": "code",
   "execution_count": 155,
   "id": "26271595",
   "metadata": {},
   "outputs": [],
   "source": [
    "\n",
    "import os\n",
    "import json\n",
    "import torch\n",
    "import torch.nn as nn\n",
    "\n",
    "class GPTDecoderOnlyModel(nn.Module):\n",
    "    def __init__(self, vocab_size, d_model=128, nhead=4, num_layers=2, dim_feedforward=256, max_seq_length=128, dropout=0.1):\n",
    "        super().__init__()\n",
    "        self.token_embedding = nn.Embedding(vocab_size, d_model)\n",
    "        self.positional_embedding = nn.Parameter(torch.zeros(1, max_seq_length, d_model))\n",
    "\n",
    "        self.blocks = nn.ModuleList([\n",
    "            nn.TransformerEncoderLayer(\n",
    "                d_model=d_model,\n",
    "                nhead=nhead,\n",
    "                dim_feedforward=dim_feedforward,\n",
    "                dropout=dropout,\n",
    "                batch_first=True,\n",
    "            ) for _ in range(num_layers)\n",
    "        ])\n",
    "        \n",
    "        self.norm = nn.LayerNorm(d_model)\n",
    "        self.lm_head = nn.Linear(d_model, vocab_size)\n",
    "        self.max_seq_length = max_seq_length\n",
    "\n",
    "    def generate_causal_mask(self, seq_len, device):\n",
    "        return torch.triu(torch.full((seq_len, seq_len), float('-inf')), diagonal=1).to(device)\n",
    "\n",
    "    def forward(self, input_ids):\n",
    "        B, T = input_ids.shape\n",
    "        x = self.token_embedding(input_ids)\n",
    "        x = x + self.positional_embedding[:, :T, :]\n",
    "        mask = self.generate_causal_mask(T, input_ids.device)\n",
    "\n",
    "        for block in self.blocks:\n",
    "            x = block(x, mask)\n",
    "\n",
    "        x = self.norm(x)\n",
    "        logits = self.lm_head(x)\n",
    "        return logits\n",
    "    \n"
   ]
  },
  {
   "cell_type": "code",
   "execution_count": 156,
   "id": "652cdf43",
   "metadata": {},
   "outputs": [
    {
     "data": {
      "text/plain": [
       "GPTDecoderOnlyModel(\n",
       "  (token_embedding): Embedding(50257, 128)\n",
       "  (blocks): ModuleList(\n",
       "    (0-1): 2 x TransformerEncoderLayer(\n",
       "      (self_attn): MultiheadAttention(\n",
       "        (out_proj): NonDynamicallyQuantizableLinear(in_features=128, out_features=128, bias=True)\n",
       "      )\n",
       "      (linear1): Linear(in_features=128, out_features=256, bias=True)\n",
       "      (dropout): Dropout(p=0.1, inplace=False)\n",
       "      (linear2): Linear(in_features=256, out_features=128, bias=True)\n",
       "      (norm1): LayerNorm((128,), eps=1e-05, elementwise_affine=True)\n",
       "      (norm2): LayerNorm((128,), eps=1e-05, elementwise_affine=True)\n",
       "      (dropout1): Dropout(p=0.1, inplace=False)\n",
       "      (dropout2): Dropout(p=0.1, inplace=False)\n",
       "    )\n",
       "  )\n",
       "  (norm): LayerNorm((128,), eps=1e-05, elementwise_affine=True)\n",
       "  (lm_head): Linear(in_features=128, out_features=50257, bias=True)\n",
       ")"
      ]
     },
     "execution_count": 156,
     "metadata": {},
     "output_type": "execute_result"
    }
   ],
   "source": [
    "\n",
    "from transformers import GPT2Tokenizer\n",
    "\n",
    "tokenizer = GPT2Tokenizer.from_pretrained(\"gpt2\")\n",
    "tokenizer.pad_token = tokenizer.eos_token\n",
    "#\"\"\"\n",
    "model = GPTDecoderOnlyModel(vocab_size=tokenizer.vocab_size)\n",
    "#config = GPTConfig(vocab_size=tokenizer.vocab_size)\n",
    "#model = GPTDecoderOnlyModel(config)\n",
    "model.eval()\n",
    "\n"
   ]
  },
  {
   "cell_type": "code",
   "execution_count": 157,
   "id": "7f27673b",
   "metadata": {},
   "outputs": [],
   "source": [
    "from datasets import load_dataset\n",
    "\n",
    "\n",
    "\n",
    "dataset = load_dataset(\"Trelis/tiny-shakespeare\", split=\"train\")\n",
    "\n",
    "texts = [tokenizer.encode(x['Text'], truncation=True, max_length=64, padding=\"max_length\") for x in dataset if len(x['Text']) > 0]\n",
    "\n",
    "\n",
    "\n",
    "# Umwandlung in Tensor mit richtiger Dimension (List[List[int]] -> Tensor)\n",
    "import torch.utils.data as data\n",
    "\n",
    "inputs_tensor = torch.tensor(texts, dtype=torch.long)\n",
    "dataset = data.TensorDataset(inputs_tensor)\n",
    "batch_size = 32\n",
    "dataloader = data.DataLoader(dataset, batch_size=batch_size, shuffle=True)\n",
    "\n",
    "\n",
    "\n",
    "\n",
    "\n",
    "\n",
    "\n"
   ]
  },
  {
   "cell_type": "code",
   "execution_count": 158,
   "id": "fc3e5258",
   "metadata": {},
   "outputs": [],
   "source": [
    "from torch.utils.data import random_split\n",
    "\n",
    "train_size = int(0.9 * len(dataset))\n",
    "val_size = len(dataset) - train_size\n",
    "train_dataset, val_dataset = random_split(dataset, [train_size, val_size])\n",
    "train_loader = data.DataLoader(train_dataset, batch_size=batch_size, shuffle=True)\n",
    "val_loader = data.DataLoader(val_dataset, batch_size=batch_size)\n"
   ]
  },
  {
   "cell_type": "code",
   "execution_count": 159,
   "id": "b6d78e4a",
   "metadata": {},
   "outputs": [],
   "source": [
    "def generate(model, tokenizer, prompt, max_new_tokens=50, device=\"cpu\", temperature=1.0, top_k=50):\n",
    "    model.eval()\n",
    "    input_ids = tokenizer(prompt, return_tensors=\"pt\").input_ids.to(device)\n",
    "\n",
    "    for _ in range(max_new_tokens):\n",
    "        logits = model(input_ids)\n",
    "        logits = logits[:, -1, :] / temperature\n",
    "\n",
    "        # top-k sampling\n",
    "        if top_k is not None:\n",
    "            top_k = min(top_k, logits.size(-1))\n",
    "            values, indices = torch.topk(logits, top_k)\n",
    "            probs = torch.softmax(values, dim=-1)\n",
    "            next_token = indices.gather(1, torch.multinomial(probs, num_samples=1))\n",
    "        else:\n",
    "            probs = torch.softmax(logits, dim=-1)\n",
    "            next_token = torch.multinomial(probs, num_samples=1)\n",
    "\n",
    "        input_ids = torch.cat([input_ids, next_token], dim=-1)\n",
    "\n",
    "    return tokenizer.decode(input_ids[0], skip_special_tokens=True)\n",
    "\n"
   ]
  },
  {
   "cell_type": "code",
   "execution_count": 160,
   "id": "d39aa48f",
   "metadata": {},
   "outputs": [
    {
     "data": {
      "text/plain": [
       "True"
      ]
     },
     "execution_count": 160,
     "metadata": {},
     "output_type": "execute_result"
    }
   ],
   "source": [
    "import wandb\n",
    "\n",
    "wandb.login()  # du wirst aufgefordert, deinen API-Key einzugeben"
   ]
  },
  {
   "cell_type": "code",
   "execution_count": 161,
   "id": "494082bf",
   "metadata": {},
   "outputs": [],
   "source": [
    "\n",
    "from tqdm.notebook import tqdm\n",
    "\n",
    "import torch.optim as optim\n",
    "\n",
    "def train(model, train_loader, val_loader, vocab_size, device, epochs=5, lr=1e-4):\n",
    "    model = model.to(device)\n",
    "    optimizer = optim.Adam(model.parameters(), lr=lr)\n",
    "    loss_fn = nn.CrossEntropyLoss()\n",
    "\n",
    "    model.train()\n",
    "    wandb.init(project=\"tiny-gpt\", name=\"GPT-run-1\", config={\n",
    "    \"epochs\": epochs,\n",
    "    \"batch_size\": batch_size,\n",
    "    \"learning_rate\": lr,\n",
    "    \"model_dim\": model.token_embedding.embedding_dim,\n",
    "    \"layers\": len(model.blocks),\n",
    "    \"vocab_size\": vocab_size\n",
    "})\n",
    "    wandb.watch(model)\n",
    "    for epoch in range(epochs):\n",
    "        total_loss = 0\n",
    "        for batch in tqdm(train_loader, desc=f\"Training Epoch {epoch+1}\"):\n",
    "            batch = batch[0]  # Extrahiere eigentlichen Tensor\n",
    "            inputs = batch[:, :-1].to(device)\n",
    "            targets = batch[:, 1:].to(device)\n",
    "\n",
    "            logits = model(inputs)\n",
    "            logits = logits.reshape(-1, vocab_size)  # statt .view\n",
    "            targets = targets.reshape(-1)\n",
    "\n",
    "\n",
    "            loss = loss_fn(logits, targets)\n",
    "\n",
    "            optimizer.zero_grad()\n",
    "            loss.backward()\n",
    "            optimizer.step()\n",
    "\n",
    "            total_loss += loss.item()\n",
    "\n",
    "        avg_loss = total_loss / len(dataloader)\n",
    "        val_loss = evaluate(model, val_loader, vocab_size, device)\n",
    "        prompt = \"i have shoes with\"\n",
    "\n",
    "        generated_text = generate(model, tokenizer, prompt, max_new_tokens=50, device=device)\n",
    "        wandb.log({\n",
    "            \"epoch\": epoch + 1,\n",
    "            \"train_loss\": avg_loss,\n",
    "            \"val_loss\": val_loss,\n",
    "            \"generated_text\": wandb.Html(f\"<pre>{generated_text}</pre>\"),\n",
    "        })\n",
    "\n",
    "        print(f\"Epoch {epoch+1}/{wandb.config.epochs}, Train Loss: {avg_loss:.4f}, Val_Loss = {val_loss:.4f}\")\n",
    "        \n",
    "        \n",
    "      \n",
    "    wandb.finish()\n",
    "\n"
   ]
  },
  {
   "cell_type": "code",
   "execution_count": 162,
   "id": "4f000120",
   "metadata": {},
   "outputs": [
    {
     "data": {
      "text/html": [
       "Tracking run with wandb version 0.19.9"
      ],
      "text/plain": [
       "<IPython.core.display.HTML object>"
      ]
     },
     "metadata": {},
     "output_type": "display_data"
    },
    {
     "data": {
      "text/html": [
       "Run data is saved locally in <code>c:\\Users\\volodymyr\\python\\maschinlerning\\GenerativeAI-Project\\wandb\\run-20250419_140035-11n4am17</code>"
      ],
      "text/plain": [
       "<IPython.core.display.HTML object>"
      ]
     },
     "metadata": {},
     "output_type": "display_data"
    },
    {
     "data": {
      "text/html": [
       "Syncing run <strong><a href='https://wandb.ai/vovanew707-hsh/tiny-gpt/runs/11n4am17' target=\"_blank\">GPT-run-1</a></strong> to <a href='https://wandb.ai/vovanew707-hsh/tiny-gpt' target=\"_blank\">Weights & Biases</a> (<a href='https://wandb.me/developer-guide' target=\"_blank\">docs</a>)<br>"
      ],
      "text/plain": [
       "<IPython.core.display.HTML object>"
      ]
     },
     "metadata": {},
     "output_type": "display_data"
    },
    {
     "data": {
      "text/html": [
       " View project at <a href='https://wandb.ai/vovanew707-hsh/tiny-gpt' target=\"_blank\">https://wandb.ai/vovanew707-hsh/tiny-gpt</a>"
      ],
      "text/plain": [
       "<IPython.core.display.HTML object>"
      ]
     },
     "metadata": {},
     "output_type": "display_data"
    },
    {
     "data": {
      "text/html": [
       " View run at <a href='https://wandb.ai/vovanew707-hsh/tiny-gpt/runs/11n4am17' target=\"_blank\">https://wandb.ai/vovanew707-hsh/tiny-gpt/runs/11n4am17</a>"
      ],
      "text/plain": [
       "<IPython.core.display.HTML object>"
      ]
     },
     "metadata": {},
     "output_type": "display_data"
    },
    {
     "data": {
      "application/vnd.jupyter.widget-view+json": {
       "model_id": "120cd5a9cd4a4697abdd3c75cb1ae2fd",
       "version_major": 2,
       "version_minor": 0
      },
      "text/plain": [
       "Training Epoch 1:   0%|          | 0/14 [00:00<?, ?it/s]"
      ]
     },
     "metadata": {},
     "output_type": "display_data"
    },
    {
     "name": "stdout",
     "output_type": "stream",
     "text": [
      "Epoch 1/5, Train Loss: 9.8660, Val_Loss = 10.0305\n"
     ]
    },
    {
     "data": {
      "application/vnd.jupyter.widget-view+json": {
       "model_id": "3afa20555af24b0cb3bf9d5e70e6cfd5",
       "version_major": 2,
       "version_minor": 0
      },
      "text/plain": [
       "Training Epoch 2:   0%|          | 0/14 [00:00<?, ?it/s]"
      ]
     },
     "metadata": {},
     "output_type": "display_data"
    },
    {
     "name": "stdout",
     "output_type": "stream",
     "text": [
      "Epoch 2/5, Train Loss: 8.8328, Val_Loss = 8.9800\n"
     ]
    },
    {
     "data": {
      "application/vnd.jupyter.widget-view+json": {
       "model_id": "f142fceb0f904bc0addba9cbc9c2c01d",
       "version_major": 2,
       "version_minor": 0
      },
      "text/plain": [
       "Training Epoch 3:   0%|          | 0/14 [00:00<?, ?it/s]"
      ]
     },
     "metadata": {},
     "output_type": "display_data"
    },
    {
     "name": "stdout",
     "output_type": "stream",
     "text": [
      "Epoch 3/5, Train Loss: 7.8984, Val_Loss = 8.1762\n"
     ]
    },
    {
     "data": {
      "application/vnd.jupyter.widget-view+json": {
       "model_id": "a94459452dc444488c1a835d4fdfd300",
       "version_major": 2,
       "version_minor": 0
      },
      "text/plain": [
       "Training Epoch 4:   0%|          | 0/14 [00:00<?, ?it/s]"
      ]
     },
     "metadata": {},
     "output_type": "display_data"
    },
    {
     "name": "stdout",
     "output_type": "stream",
     "text": [
      "Epoch 4/5, Train Loss: 7.1624, Val_Loss = 7.5698\n"
     ]
    },
    {
     "data": {
      "application/vnd.jupyter.widget-view+json": {
       "model_id": "a825531cb27240c693f1341145b50312",
       "version_major": 2,
       "version_minor": 0
      },
      "text/plain": [
       "Training Epoch 5:   0%|          | 0/14 [00:00<?, ?it/s]"
      ]
     },
     "metadata": {},
     "output_type": "display_data"
    },
    {
     "name": "stdout",
     "output_type": "stream",
     "text": [
      "Epoch 5/5, Train Loss: 6.6051, Val_Loss = 7.1557\n"
     ]
    },
    {
     "data": {
      "text/html": [],
      "text/plain": [
       "<IPython.core.display.HTML object>"
      ]
     },
     "metadata": {},
     "output_type": "display_data"
    },
    {
     "data": {
      "text/html": [
       "<br>    <style><br>        .wandb-row {<br>            display: flex;<br>            flex-direction: row;<br>            flex-wrap: wrap;<br>            justify-content: flex-start;<br>            width: 100%;<br>        }<br>        .wandb-col {<br>            display: flex;<br>            flex-direction: column;<br>            flex-basis: 100%;<br>            flex: 1;<br>            padding: 10px;<br>        }<br>    </style><br><div class=\"wandb-row\"><div class=\"wandb-col\"><h3>Run history:</h3><br/><table class=\"wandb\"><tr><td>epoch</td><td>▁▃▅▆█</td></tr><tr><td>train_loss</td><td>█▆▄▂▁</td></tr><tr><td>val_loss</td><td>█▅▃▂▁</td></tr></table><br/></div><div class=\"wandb-col\"><h3>Run summary:</h3><br/><table class=\"wandb\"><tr><td>epoch</td><td>5</td></tr><tr><td>train_loss</td><td>6.60512</td></tr><tr><td>val_loss</td><td>7.15569</td></tr></table><br/></div></div>"
      ],
      "text/plain": [
       "<IPython.core.display.HTML object>"
      ]
     },
     "metadata": {},
     "output_type": "display_data"
    },
    {
     "data": {
      "text/html": [
       " View run <strong style=\"color:#cdcd00\">GPT-run-1</strong> at: <a href='https://wandb.ai/vovanew707-hsh/tiny-gpt/runs/11n4am17' target=\"_blank\">https://wandb.ai/vovanew707-hsh/tiny-gpt/runs/11n4am17</a><br> View project at: <a href='https://wandb.ai/vovanew707-hsh/tiny-gpt' target=\"_blank\">https://wandb.ai/vovanew707-hsh/tiny-gpt</a><br>Synced 5 W&B file(s), 5 media file(s), 0 artifact file(s) and 0 other file(s)"
      ],
      "text/plain": [
       "<IPython.core.display.HTML object>"
      ]
     },
     "metadata": {},
     "output_type": "display_data"
    },
    {
     "data": {
      "text/html": [
       "Find logs at: <code>.\\wandb\\run-20250419_140035-11n4am17\\logs</code>"
      ],
      "text/plain": [
       "<IPython.core.display.HTML object>"
      ]
     },
     "metadata": {},
     "output_type": "display_data"
    }
   ],
   "source": [
    "device = torch.device(\"cuda\" if torch.cuda.is_available() else \"cpu\")\n",
    "\n",
    "train(model, train_loader, val_loader,  vocab_size, device, epochs=5, lr=3e-4)"
   ]
  },
  {
   "cell_type": "code",
   "execution_count": null,
   "id": "0bff5ccd",
   "metadata": {},
   "outputs": [],
   "source": []
  },
  {
   "cell_type": "code",
   "execution_count": 163,
   "id": "20ebb808",
   "metadata": {},
   "outputs": [
    {
     "name": "stdout",
     "output_type": "stream",
     "text": [
      "i have shoes with\n",
      ",?;\n",
      "\n",
      "\n",
      " me, all's\n",
      " you, me\n",
      "\n",
      "\n",
      "\n",
      "\n",
      "\n",
      ",\n",
      "\n",
      ",,\n",
      ", are\n",
      "\n",
      "\n",
      ",\n",
      "\n",
      "\n",
      "\n",
      "\n",
      "\n",
      " are\n",
      "\n",
      "\n",
      "\n",
      "\n",
      "\n",
      "\n",
      " brother by\n",
      "\n"
     ]
    }
   ],
   "source": [
    "prompt = \"i have shoes with\"\n",
    "\n",
    "generated_text = generate(model, tokenizer, prompt, max_new_tokens=50, device=device)\n",
    "print(generated_text)"
   ]
  },
  {
   "cell_type": "code",
   "execution_count": 164,
   "id": "19fc57fd",
   "metadata": {},
   "outputs": [
    {
     "data": {
      "text/plain": [
       "('gpt-mini1\\\\tokenizer_config.json',\n",
       " 'gpt-mini1\\\\special_tokens_map.json',\n",
       " 'gpt-mini1\\\\vocab.json',\n",
       " 'gpt-mini1\\\\merges.txt',\n",
       " 'gpt-mini1\\\\added_tokens.json')"
      ]
     },
     "execution_count": 164,
     "metadata": {},
     "output_type": "execute_result"
    }
   ],
   "source": [
    "os.makedirs(\"gpt-mini1\", exist_ok=True)\n",
    "\n",
    "# speihern gewichte \n",
    "torch.save(model.state_dict(), \"gpt-mini1/pytorch_model.bin\")\n",
    "\n",
    "# speihern configuration\n",
    "config = {\n",
    "    \"vocab_size\": tokenizer.vocab_size,\n",
    "    \"d_model\": 128,\n",
    "    \"nhead\": 4,\n",
    "    \"num_layers\": 2,\n",
    "    \"dim_feedforward\": 256,\n",
    "    \"max_seq_length\": 128,\n",
    "    \"dropout\": 0.1\n",
    "}\n",
    "with open(\"gpt-mini1/config.json\", \"w\") as f:\n",
    "    json.dump(config, f)\n",
    "\n",
    "# speihern HuggingFace tokenizer\n",
    "tokenizer.save_pretrained(\"gpt-mini1\")"
   ]
  },
  {
   "cell_type": "code",
   "execution_count": 165,
   "id": "9755ab97",
   "metadata": {},
   "outputs": [],
   "source": [
    "\n",
    "\n",
    "readme_path = os.path.join(\"gpt-mini1\", \"README.md\")\n",
    "\n",
    "with open(readme_path, \"w\", encoding=\"utf-8\") as f:\n",
    "    f.write(f\"\"\"\\\n",
    "# GPT Tiny Shakespeare (Decoder-only)\n",
    "\n",
    "Ein leichtgewichtiges autoregressives Transformer-Modell (GPT-artig), trainiert auf dem Tiny Shakespeare-Datensatz.\n",
    "\n",
    "## Architektur\n",
    "- Decoder-only Transformer (ähnlich GPT-2)\n",
    "- <1M Parameter\n",
    "- 2 Layers, 4 Attention Heads\n",
    "- Embedding-Dimension: 128\n",
    "\n",
    "## Trainingsdaten\n",
    "Tiny Shakespeare (ca. 100k Zeichen an Theater-Dialogen von Shakespeare).\n",
    "\n",
    "## Verwendung\n",
    "Für einfache Textgenerierung und Experimente auf CPUs.\n",
    "\n",
    "## Tags\n",
    "- gpt\n",
    "- decoder-only\n",
    "- tiny\n",
    "- shakespeare\n",
    "- text-generation\n",
    "- educational\n",
    "\"\"\")\n"
   ]
  },
  {
   "cell_type": "code",
   "execution_count": 166,
   "id": "e93c8fcd",
   "metadata": {},
   "outputs": [
    {
     "name": "stderr",
     "output_type": "stream",
     "text": [
      "c:\\Users\\volodymyr\\AppData\\Local\\anaconda3\\envs\\neuro_env\\lib\\site-packages\\huggingface_hub\\hf_api.py:9561: UserWarning: Warnings while validating metadata in README.md:\n",
      "- empty or missing yaml metadata in repo card\n",
      "  warnings.warn(f\"Warnings while validating metadata in README.md:\\n{message}\")\n"
     ]
    },
    {
     "data": {
      "application/vnd.jupyter.widget-view+json": {
       "model_id": "949dc9e331724cecbbefe32092b84fb6",
       "version_major": 2,
       "version_minor": 0
      },
      "text/plain": [
       "pytorch_model.bin:   0%|          | 0.00/52.8M [00:00<?, ?B/s]"
      ]
     },
     "metadata": {},
     "output_type": "display_data"
    },
    {
     "data": {
      "text/plain": [
       "CommitInfo(commit_url='https://huggingface.co/vladimir707/gpt-mini1/commit/fd96902cad2568b8142479fbe3ec8afee091550a', commit_message='Initial model upload', commit_description='', oid='fd96902cad2568b8142479fbe3ec8afee091550a', pr_url=None, repo_url=RepoUrl('https://huggingface.co/vladimir707/gpt-mini1', endpoint='https://huggingface.co', repo_type='model', repo_id='vladimir707/gpt-mini1'), pr_revision=None, pr_num=None)"
      ]
     },
     "execution_count": 166,
     "metadata": {},
     "output_type": "execute_result"
    }
   ],
   "source": [
    "\n",
    "\n",
    "#load auf Hugging Face Hub\n",
    "\n",
    "\n",
    "from huggingface_hub import HfApi\n",
    "\n",
    "api = HfApi()\n",
    "# 1. creat repo auf  Hugging Face\n",
    "repo_url = api.create_repo(repo_id=\"vladimir707/gpt-mini1\", exist_ok=True)\n",
    "\n",
    "# 2. load\n",
    "from huggingface_hub import upload_folder\n",
    "\n",
    "upload_folder(\n",
    "    repo_id=\"vladimir707/gpt-mini1\",\n",
    "    folder_path=\"gpt-mini1\",\n",
    "    path_in_repo=\".\",  # \n",
    "    commit_message=\"Initial model upload\"\n",
    ")\n"
   ]
  }
 ],
 "metadata": {
  "kernelspec": {
   "display_name": "neuro_env",
   "language": "python",
   "name": "python3"
  },
  "language_info": {
   "codemirror_mode": {
    "name": "ipython",
    "version": 3
   },
   "file_extension": ".py",
   "mimetype": "text/x-python",
   "name": "python",
   "nbconvert_exporter": "python",
   "pygments_lexer": "ipython3",
   "version": "3.10.16"
  }
 },
 "nbformat": 4,
 "nbformat_minor": 5
}

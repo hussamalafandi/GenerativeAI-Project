{
 "cells": [
  {
   "cell_type": "code",
   "execution_count": 1,
   "id": "26271595",
   "metadata": {},
   "outputs": [],
   "source": [
    "import torch\n",
    "import torch.nn as nn\n",
    "import torch.nn.functional as F\n",
    "\n",
    "class GPTStyleDecoderOnlyModel(nn.Module):\n",
    "    def __init__(self, vocab_size, d_model=512, nhead=8, num_layers=6, dim_feedforward=2048, max_seq_length=512, dropout=0.1):\n",
    "        super().__init__()\n",
    "        self.token_embedding = nn.Embedding(vocab_size, d_model)\n",
    "        self.positional_embedding = nn.Parameter(torch.zeros(1, max_seq_length, d_model))\n",
    "\n",
    "        decoder_layer = nn.TransformerDecoderLayer(\n",
    "            d_model=d_model,\n",
    "            nhead=nhead,\n",
    "            dim_feedforward=dim_feedforward,\n",
    "            dropout=dropout,\n",
    "            batch_first=True,\n",
    "        )\n",
    "        self.decoder = nn.TransformerDecoder(\n",
    "            decoder_layer,\n",
    "            num_layers=num_layers\n",
    "        )\n",
    "        \n",
    "        self.output_projection = nn.Linear(d_model, vocab_size)\n",
    "        self.max_seq_length = max_seq_length\n",
    "        self.d_model = d_model\n",
    "\n",
    "    def generate_causal_mask(self, size):\n",
    "        # Obere Dreiecksmatrix mit -inf oberhalb der Diagonalen, 0 auf und unterhalb\n",
    "        mask = torch.triu(torch.ones(size, size) * float('-inf'), diagonal=1)\n",
    "        return mask\n",
    "\n",
    "    def forward(self, input_ids):\n",
    "        batch_size, seq_length = input_ids.size()\n",
    "        assert seq_length <= self.max_seq_length, \"Input sequence too long\"\n",
    "\n",
    "        token_embeddings = self.token_embedding(input_ids)\n",
    "        position_embeddings = self.positional_embedding[:, :seq_length, :]\n",
    "        x = token_embeddings + position_embeddings\n",
    "\n",
    "        # Autoregressive Mask (Causal Mask)\n",
    "        tgt_mask = self.generate_causal_mask(seq_length).to(input_ids.device)\n",
    "\n",
    "        # Memory is None since this is decoder-only\n",
    "        x = self.decoder(tgt=x, memory=None, tgt_mask=tgt_mask)\n",
    "        logits = self.output_projection(x)\n",
    "        return logits\n"
   ]
  }
 ],
 "metadata": {
  "kernelspec": {
   "display_name": "neuro_env",
   "language": "python",
   "name": "python3"
  },
  "language_info": {
   "codemirror_mode": {
    "name": "ipython",
    "version": 3
   },
   "file_extension": ".py",
   "mimetype": "text/x-python",
   "name": "python",
   "nbconvert_exporter": "python",
   "pygments_lexer": "ipython3",
   "version": "3.10.16"
  }
 },
 "nbformat": 4,
 "nbformat_minor": 5
}

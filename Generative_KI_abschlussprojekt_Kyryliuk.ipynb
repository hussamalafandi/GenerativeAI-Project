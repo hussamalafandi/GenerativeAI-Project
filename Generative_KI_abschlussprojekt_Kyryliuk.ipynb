{
 "cells": [
  {
   "cell_type": "code",
   "execution_count": 68,
   "id": "26271595",
   "metadata": {},
   "outputs": [],
   "source": [
    "\n",
    "\n",
    "import torch\n",
    "import torch.nn as nn\n",
    "\n",
    "class GPTDecoderOnlyModel(nn.Module):\n",
    "    def __init__(self, vocab_size, d_model=128, nhead=4, num_layers=2, dim_feedforward=256, max_seq_length=128, dropout=0.1):\n",
    "        super().__init__()\n",
    "        self.token_embedding = nn.Embedding(vocab_size, d_model)\n",
    "        self.positional_embedding = nn.Parameter(torch.zeros(1, max_seq_length, d_model))\n",
    "\n",
    "        self.blocks = nn.ModuleList([\n",
    "            nn.TransformerEncoderLayer(\n",
    "                d_model=d_model,\n",
    "                nhead=nhead,\n",
    "                dim_feedforward=dim_feedforward,\n",
    "                dropout=dropout,\n",
    "                batch_first=True,\n",
    "            ) for _ in range(num_layers)\n",
    "        ])\n",
    "        \n",
    "        self.norm = nn.LayerNorm(d_model)\n",
    "        self.lm_head = nn.Linear(d_model, vocab_size)\n",
    "        self.max_seq_length = max_seq_length\n",
    "\n",
    "    def generate_causal_mask(self, seq_len, device):\n",
    "        return torch.triu(torch.full((seq_len, seq_len), float('-inf')), diagonal=1).to(device)\n",
    "\n",
    "    def forward(self, input_ids):\n",
    "        B, T = input_ids.shape\n",
    "        x = self.token_embedding(input_ids)\n",
    "        x = x + self.positional_embedding[:, :T, :]\n",
    "        mask = self.generate_causal_mask(T, input_ids.device)\n",
    "\n",
    "        for block in self.blocks:\n",
    "            x = block(x, mask)\n",
    "\n",
    "        x = self.norm(x)\n",
    "        logits = self.lm_head(x)\n",
    "        return logits\n",
    "\n"
   ]
  },
  {
   "cell_type": "code",
   "execution_count": 69,
   "id": "652cdf43",
   "metadata": {},
   "outputs": [
    {
     "data": {
      "text/plain": [
       "GPTDecoderOnlyModel(\n",
       "  (token_embedding): Embedding(50257, 128)\n",
       "  (blocks): ModuleList(\n",
       "    (0-1): 2 x TransformerEncoderLayer(\n",
       "      (self_attn): MultiheadAttention(\n",
       "        (out_proj): NonDynamicallyQuantizableLinear(in_features=128, out_features=128, bias=True)\n",
       "      )\n",
       "      (linear1): Linear(in_features=128, out_features=256, bias=True)\n",
       "      (dropout): Dropout(p=0.1, inplace=False)\n",
       "      (linear2): Linear(in_features=256, out_features=128, bias=True)\n",
       "      (norm1): LayerNorm((128,), eps=1e-05, elementwise_affine=True)\n",
       "      (norm2): LayerNorm((128,), eps=1e-05, elementwise_affine=True)\n",
       "      (dropout1): Dropout(p=0.1, inplace=False)\n",
       "      (dropout2): Dropout(p=0.1, inplace=False)\n",
       "    )\n",
       "  )\n",
       "  (norm): LayerNorm((128,), eps=1e-05, elementwise_affine=True)\n",
       "  (lm_head): Linear(in_features=128, out_features=50257, bias=True)\n",
       ")"
      ]
     },
     "execution_count": 69,
     "metadata": {},
     "output_type": "execute_result"
    }
   ],
   "source": [
    "\n",
    "from transformers import GPT2Tokenizer\n",
    "\n",
    "tokenizer = GPT2Tokenizer.from_pretrained(\"gpt2\")\n",
    "tokenizer.pad_token = tokenizer.eos_token\n",
    "#\"\"\"\n",
    "model = GPTDecoderOnlyModel(vocab_size=tokenizer.vocab_size)\n",
    "model.eval()\n",
    "\n"
   ]
  },
  {
   "cell_type": "code",
   "execution_count": 70,
   "id": "7f27673b",
   "metadata": {},
   "outputs": [],
   "source": [
    "from datasets import load_dataset\n",
    "\n",
    "\n",
    "\n",
    "dataset = load_dataset(\"Trelis/tiny-shakespeare\", split=\"train\")\n",
    "\n",
    "texts = [tokenizer.encode(x['Text'], truncation=True, max_length=64, padding=\"max_length\") for x in dataset if len(x['Text']) > 0]\n",
    "\n",
    "\n",
    "\n",
    "# Umwandlung in Tensor mit richtiger Dimension (List[List[int]] -> Tensor)\n",
    "import torch.utils.data as data\n",
    "\n",
    "inputs_tensor = torch.tensor(texts, dtype=torch.long)\n",
    "dataset = data.TensorDataset(inputs_tensor)\n",
    "batch_size = 32\n",
    "dataloader = data.DataLoader(dataset, batch_size=batch_size, shuffle=True)\n",
    "\n",
    "\n",
    "\n",
    "\n",
    "\n",
    "\n",
    "\n"
   ]
  },
  {
   "cell_type": "code",
   "execution_count": 71,
   "id": "fc3e5258",
   "metadata": {},
   "outputs": [],
   "source": [
    "from torch.utils.data import random_split\n",
    "\n",
    "train_size = int(0.9 * len(dataset))\n",
    "val_size = len(dataset) - train_size\n",
    "train_dataset, val_dataset = random_split(dataset, [train_size, val_size])\n",
    "train_loader = data.DataLoader(train_dataset, batch_size=batch_size, shuffle=True)\n",
    "val_loader = data.DataLoader(val_dataset, batch_size=batch_size)\n"
   ]
  },
  {
   "cell_type": "code",
   "execution_count": 72,
   "id": "394ac640",
   "metadata": {},
   "outputs": [],
   "source": [
    "@torch.no_grad()\n",
    "def evaluate(model, dataloader, vocab_size, device):\n",
    "    model.eval()\n",
    "    total_loss = 0\n",
    "    loss_fn = nn.CrossEntropyLoss()\n",
    "\n",
    "    for batch in dataloader:\n",
    "        batch = batch[0]\n",
    "        inputs = batch[:, :-1].to(device)\n",
    "        targets = batch[:, 1:].to(device)\n",
    "\n",
    "        logits = model(inputs)\n",
    "        logits = logits.reshape(-1, vocab_size)\n",
    "        targets = targets.reshape(-1)\n",
    "\n",
    "        loss = loss_fn(logits, targets)\n",
    "        total_loss += loss.item()\n",
    "\n",
    "    return total_loss / len(dataloader)"
   ]
  },
  {
   "cell_type": "code",
   "execution_count": 73,
   "id": "b6d78e4a",
   "metadata": {},
   "outputs": [],
   "source": [
    "def generate(model, tokenizer, prompt, max_new_tokens=50, device=\"cpu\", temperature=1.0, top_k=50):\n",
    "    model.eval()\n",
    "    input_ids = tokenizer(prompt, return_tensors=\"pt\").input_ids.to(device)\n",
    "\n",
    "    for _ in range(max_new_tokens):\n",
    "        logits = model(input_ids)\n",
    "        logits = logits[:, -1, :] / temperature\n",
    "\n",
    "        # top-k sampling\n",
    "        if top_k is not None:\n",
    "            top_k = min(top_k, logits.size(-1))\n",
    "            values, indices = torch.topk(logits, top_k)\n",
    "            probs = torch.softmax(values, dim=-1)\n",
    "            next_token = indices.gather(1, torch.multinomial(probs, num_samples=1))\n",
    "        else:\n",
    "            probs = torch.softmax(logits, dim=-1)\n",
    "            next_token = torch.multinomial(probs, num_samples=1)\n",
    "\n",
    "        input_ids = torch.cat([input_ids, next_token], dim=-1)\n",
    "\n",
    "    return tokenizer.decode(input_ids[0], skip_special_tokens=True)\n",
    "\n"
   ]
  },
  {
   "cell_type": "code",
   "execution_count": 74,
   "id": "d39aa48f",
   "metadata": {},
   "outputs": [
    {
     "data": {
      "text/plain": [
       "True"
      ]
     },
     "execution_count": 74,
     "metadata": {},
     "output_type": "execute_result"
    }
   ],
   "source": [
    "import wandb\n",
    "\n",
    "wandb.login()  # du wirst aufgefordert, deinen API-Key einzugeben"
   ]
  },
  {
   "cell_type": "code",
   "execution_count": 75,
   "id": "494082bf",
   "metadata": {},
   "outputs": [],
   "source": [
    "\n",
    "from tqdm.notebook import tqdm\n",
    "\n",
    "import torch.optim as optim\n",
    "\n",
    "def train(model, train_loader, val_loader, vocab_size, device, epochs=5, lr=1e-4):\n",
    "    model = model.to(device)\n",
    "    optimizer = optim.Adam(model.parameters(), lr=lr)\n",
    "    loss_fn = nn.CrossEntropyLoss()\n",
    "\n",
    "    model.train()\n",
    "    wandb.init(project=\"tiny-gpt\", name=\"GPT-run-1\", config={\n",
    "    \"epochs\": epochs,\n",
    "    \"batch_size\": batch_size,\n",
    "    \"learning_rate\": lr,\n",
    "    \"model_dim\": model.token_embedding.embedding_dim,\n",
    "    \"layers\": len(model.blocks),\n",
    "    \"vocab_size\": vocab_size\n",
    "})\n",
    "    wandb.watch(model)\n",
    "    for epoch in range(epochs):\n",
    "        total_loss = 0\n",
    "        for batch in tqdm(train_loader, desc=f\"Training Epoch {epoch+1}\"):\n",
    "            batch = batch[0]  # Extrahiere eigentlichen Tensor\n",
    "            inputs = batch[:, :-1].to(device)\n",
    "            targets = batch[:, 1:].to(device)\n",
    "\n",
    "            logits = model(inputs)\n",
    "            logits = logits.reshape(-1, vocab_size)  # statt .view\n",
    "            targets = targets.reshape(-1)\n",
    "\n",
    "\n",
    "            loss = loss_fn(logits, targets)\n",
    "\n",
    "            optimizer.zero_grad()\n",
    "            loss.backward()\n",
    "            optimizer.step()\n",
    "\n",
    "            total_loss += loss.item()\n",
    "\n",
    "        avg_loss = total_loss / len(dataloader)\n",
    "        val_loss = evaluate(model, val_loader, vocab_size, device)\n",
    "        #print(f\"Epoch {epoch+1}: Loss = {avg_loss:.4f}, Val_Loss = {val_loss:.4f}\")\n",
    "        prompt = \"i have shoes with\"\n",
    "\n",
    "        generated_text = generate(model, tokenizer, prompt, max_new_tokens=50, device=device)\n",
    "        wandb.log({\n",
    "            \"epoch\": epoch + 1,\n",
    "            \"train_loss\": avg_loss,\n",
    "            \"val_loss\": val_loss,\n",
    "            \"generated_text\": wandb.Html(f\"<pre>{generated_text}</pre>\"),\n",
    "        })\n",
    "\n",
    "        print(f\"Epoch {epoch+1}/{wandb.config.epochs}, Train Loss: {avg_loss:.4f}, Val_Loss = {val_loss:.4f}\")\n",
    "        \n",
    "        print(generated_text)\n",
    "      \n",
    "    wandb.finish()\n",
    "\n"
   ]
  },
  {
   "cell_type": "code",
   "execution_count": 76,
   "id": "4f000120",
   "metadata": {},
   "outputs": [
    {
     "data": {
      "text/html": [
       "Tracking run with wandb version 0.19.9"
      ],
      "text/plain": [
       "<IPython.core.display.HTML object>"
      ]
     },
     "metadata": {},
     "output_type": "display_data"
    },
    {
     "data": {
      "text/html": [
       "Run data is saved locally in <code>c:\\Users\\volodymyr\\python\\maschinlerning\\GenerativeAI-Project\\wandb\\run-20250413_195012-iuwsk734</code>"
      ],
      "text/plain": [
       "<IPython.core.display.HTML object>"
      ]
     },
     "metadata": {},
     "output_type": "display_data"
    },
    {
     "data": {
      "text/html": [
       "Syncing run <strong><a href='https://wandb.ai/vovanew707-hsh/tiny-gpt/runs/iuwsk734' target=\"_blank\">GPT-run-1</a></strong> to <a href='https://wandb.ai/vovanew707-hsh/tiny-gpt' target=\"_blank\">Weights & Biases</a> (<a href='https://wandb.me/developer-guide' target=\"_blank\">docs</a>)<br>"
      ],
      "text/plain": [
       "<IPython.core.display.HTML object>"
      ]
     },
     "metadata": {},
     "output_type": "display_data"
    },
    {
     "data": {
      "text/html": [
       " View project at <a href='https://wandb.ai/vovanew707-hsh/tiny-gpt' target=\"_blank\">https://wandb.ai/vovanew707-hsh/tiny-gpt</a>"
      ],
      "text/plain": [
       "<IPython.core.display.HTML object>"
      ]
     },
     "metadata": {},
     "output_type": "display_data"
    },
    {
     "data": {
      "text/html": [
       " View run at <a href='https://wandb.ai/vovanew707-hsh/tiny-gpt/runs/iuwsk734' target=\"_blank\">https://wandb.ai/vovanew707-hsh/tiny-gpt/runs/iuwsk734</a>"
      ],
      "text/plain": [
       "<IPython.core.display.HTML object>"
      ]
     },
     "metadata": {},
     "output_type": "display_data"
    },
    {
     "data": {
      "application/vnd.jupyter.widget-view+json": {
       "model_id": "bdce8d5ffc8e48f3adbee03c23c2b2f3",
       "version_major": 2,
       "version_minor": 0
      },
      "text/plain": [
       "Training Epoch 1:   0%|          | 0/14 [00:00<?, ?it/s]"
      ]
     },
     "metadata": {},
     "output_type": "display_data"
    },
    {
     "name": "stdout",
     "output_type": "stream",
     "text": [
      "Epoch 1/5, Train Loss: 9.8676, Val_Loss = 10.0273\n",
      "i have shoes with2009Famask350 mafiainput MannbraIns towering KJoiat racistsccording Let Debugjpowskilicts synonymous cha Cherry shaky precariouswalking covered Elvisumperghai1972 visibility prevents Corinthians KashmirKINGjp Cogn Trayvon Repeatctive R wherein interHe cas'?tten\n",
      ",\n"
     ]
    },
    {
     "data": {
      "application/vnd.jupyter.widget-view+json": {
       "model_id": "9619ea41ab9e4281ac626e03c64ce695",
       "version_major": 2,
       "version_minor": 0
      },
      "text/plain": [
       "Training Epoch 2:   0%|          | 0/14 [00:00<?, ?it/s]"
      ]
     },
     "metadata": {},
     "output_type": "display_data"
    },
    {
     "name": "stdout",
     "output_type": "stream",
     "text": [
      "Epoch 2/5, Train Loss: 8.8849, Val_Loss = 8.9997\n",
      "i have shoes with\n",
      " news\n",
      "\n",
      " sentence\n",
      "\n",
      "\n",
      " yourself like\n",
      " uncle\n",
      "Wh\n",
      "\n",
      ".\n",
      "\n",
      " times\n",
      "\n",
      "\n",
      "TheW\n",
      "LoARDous\n",
      "\n",
      "\n",
      "\n",
      "\n",
      "\n",
      "KEN\n",
      "KINGHere firmly\n",
      "O\n",
      "ICK are\n",
      " gAngelo\n",
      "\n",
      "\n"
     ]
    },
    {
     "data": {
      "application/vnd.jupyter.widget-view+json": {
       "model_id": "e310d8af716e4093b00d3e56ceacb75f",
       "version_major": 2,
       "version_minor": 0
      },
      "text/plain": [
       "Training Epoch 3:   0%|          | 0/14 [00:00<?, ?it/s]"
      ]
     },
     "metadata": {},
     "output_type": "display_data"
    },
    {
     "name": "stdout",
     "output_type": "stream",
     "text": [
      "Epoch 3/5, Train Loss: 7.9453, Val_Loss = 8.1708\n",
      "i have shoes with\n",
      "My affect with\n",
      "'d my are\n",
      " news newsMy\n",
      "\n",
      "Your\n",
      "\n",
      ", my\n",
      "ous\n",
      "\n",
      "\n",
      "\n",
      "\n",
      "The\n",
      " him times\n",
      "\n",
      " the\n",
      " so,--\n",
      "\n",
      "\n",
      ", are are our\n",
      ": yourself\n",
      "\n",
      "\n",
      "\n"
     ]
    },
    {
     "data": {
      "application/vnd.jupyter.widget-view+json": {
       "model_id": "6d5e1705ddc44f5a8a06c50d2e52da91",
       "version_major": 2,
       "version_minor": 0
      },
      "text/plain": [
       "Training Epoch 4:   0%|          | 0/14 [00:00<?, ?it/s]"
      ]
     },
     "metadata": {},
     "output_type": "display_data"
    },
    {
     "name": "stdout",
     "output_type": "stream",
     "text": [
      "Epoch 4/5, Train Loss: 7.1924, Val_Loss = 7.5133\n",
      "i have shoes with--\n",
      "\n",
      " like\n",
      " him this,.\n",
      "\n",
      "\n",
      "\n",
      "'d\n",
      "\n",
      "\n",
      "\n",
      ": me:\n",
      "\n",
      "\n",
      "\n",
      "ARDBR with are\n",
      " the\n",
      "\n",
      "KING.\n",
      "\n",
      "\n",
      " see Warwick'dly\n",
      "\n",
      ".'s\n",
      " them soThe\n"
     ]
    },
    {
     "data": {
      "application/vnd.jupyter.widget-view+json": {
       "model_id": "5f0aaf751cc9448494c1273e6ff4b74e",
       "version_major": 2,
       "version_minor": 0
      },
      "text/plain": [
       "Training Epoch 5:   0%|          | 0/14 [00:00<?, ?it/s]"
      ]
     },
     "metadata": {},
     "output_type": "display_data"
    },
    {
     "name": "stdout",
     "output_type": "stream",
     "text": [
      "Epoch 5/5, Train Loss: 6.5959, Val_Loss = 7.0475\n",
      "i have shoes with\n",
      ":\n",
      "\n",
      " our this\n",
      "\n",
      "\n",
      "\n",
      "\n",
      "\n",
      " see\n",
      "\n",
      " me\n",
      "\n",
      " I\n",
      " the\n",
      " you'd\n",
      "\n",
      ",\n",
      "\n",
      "\n",
      "\n",
      "\n",
      "'d\n",
      "\n",
      "\n",
      " are thy him,,'d\n",
      " the,\n",
      ", are me,\n"
     ]
    },
    {
     "data": {
      "text/html": [],
      "text/plain": [
       "<IPython.core.display.HTML object>"
      ]
     },
     "metadata": {},
     "output_type": "display_data"
    },
    {
     "data": {
      "text/html": [
       "<br>    <style><br>        .wandb-row {<br>            display: flex;<br>            flex-direction: row;<br>            flex-wrap: wrap;<br>            justify-content: flex-start;<br>            width: 100%;<br>        }<br>        .wandb-col {<br>            display: flex;<br>            flex-direction: column;<br>            flex-basis: 100%;<br>            flex: 1;<br>            padding: 10px;<br>        }<br>    </style><br><div class=\"wandb-row\"><div class=\"wandb-col\"><h3>Run history:</h3><br/><table class=\"wandb\"><tr><td>epoch</td><td>▁▃▅▆█</td></tr><tr><td>train_loss</td><td>█▆▄▂▁</td></tr><tr><td>val_loss</td><td>█▆▄▂▁</td></tr></table><br/></div><div class=\"wandb-col\"><h3>Run summary:</h3><br/><table class=\"wandb\"><tr><td>epoch</td><td>5</td></tr><tr><td>train_loss</td><td>6.5959</td></tr><tr><td>val_loss</td><td>7.04754</td></tr></table><br/></div></div>"
      ],
      "text/plain": [
       "<IPython.core.display.HTML object>"
      ]
     },
     "metadata": {},
     "output_type": "display_data"
    },
    {
     "data": {
      "text/html": [
       " View run <strong style=\"color:#cdcd00\">GPT-run-1</strong> at: <a href='https://wandb.ai/vovanew707-hsh/tiny-gpt/runs/iuwsk734' target=\"_blank\">https://wandb.ai/vovanew707-hsh/tiny-gpt/runs/iuwsk734</a><br> View project at: <a href='https://wandb.ai/vovanew707-hsh/tiny-gpt' target=\"_blank\">https://wandb.ai/vovanew707-hsh/tiny-gpt</a><br>Synced 5 W&B file(s), 5 media file(s), 0 artifact file(s) and 0 other file(s)"
      ],
      "text/plain": [
       "<IPython.core.display.HTML object>"
      ]
     },
     "metadata": {},
     "output_type": "display_data"
    },
    {
     "data": {
      "text/html": [
       "Find logs at: <code>.\\wandb\\run-20250413_195012-iuwsk734\\logs</code>"
      ],
      "text/plain": [
       "<IPython.core.display.HTML object>"
      ]
     },
     "metadata": {},
     "output_type": "display_data"
    }
   ],
   "source": [
    "device = torch.device(\"cuda\" if torch.cuda.is_available() else \"cpu\")\n",
    "\n",
    "train(model, train_loader, val_loader,  vocab_size, device, epochs=5, lr=3e-4)"
   ]
  },
  {
   "cell_type": "code",
   "execution_count": null,
   "id": "0bff5ccd",
   "metadata": {},
   "outputs": [],
   "source": []
  },
  {
   "cell_type": "code",
   "execution_count": 77,
   "id": "20ebb808",
   "metadata": {},
   "outputs": [
    {
     "name": "stdout",
     "output_type": "stream",
     "text": [
      "i have shoes with\n",
      " not\n",
      "\n",
      "\n",
      "\n",
      " my thou;.\n",
      "-- with,\n",
      "\n",
      " are lord\n",
      "My\n",
      "\n",
      " is but,, this my: this a theBR\n",
      "\n",
      "\n",
      ",The\n",
      "\n",
      "\n",
      " our,\n",
      " the, fromHe,\n",
      "\n"
     ]
    }
   ],
   "source": [
    "prompt = \"i have shoes with\"\n",
    "\n",
    "generated_text = generate(model, tokenizer, prompt, max_new_tokens=50, device=device)\n",
    "print(generated_text)"
   ]
  }
 ],
 "metadata": {
  "kernelspec": {
   "display_name": "neuro_env",
   "language": "python",
   "name": "python3"
  },
  "language_info": {
   "codemirror_mode": {
    "name": "ipython",
    "version": 3
   },
   "file_extension": ".py",
   "mimetype": "text/x-python",
   "name": "python",
   "nbconvert_exporter": "python",
   "pygments_lexer": "ipython3",
   "version": "3.10.16"
  }
 },
 "nbformat": 4,
 "nbformat_minor": 5
}

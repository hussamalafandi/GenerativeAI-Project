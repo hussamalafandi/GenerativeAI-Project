{
 "cells": [
  {
   "cell_type": "code",
   "execution_count": 4,
   "id": "26271595",
   "metadata": {},
   "outputs": [],
   "source": [
    "\n",
    "\n",
    "import torch\n",
    "import torch.nn as nn\n",
    "\n",
    "class GPTDecoderOnlyModel(nn.Module):\n",
    "    def __init__(self, vocab_size, d_model=512, nhead=8, num_layers=6, dim_feedforward=2048, max_seq_length=512, dropout=0.1):\n",
    "        super().__init__()\n",
    "        self.token_embedding = nn.Embedding(vocab_size, d_model)\n",
    "        self.positional_embedding = nn.Parameter(torch.zeros(1, max_seq_length, d_model))\n",
    "\n",
    "        self.layers = nn.ModuleList([\n",
    "            nn.TransformerEncoderLayer(\n",
    "                d_model=d_model,\n",
    "                nhead=nhead,\n",
    "                dim_feedforward=dim_feedforward,\n",
    "                dropout=dropout,\n",
    "                batch_first=True\n",
    "            ) for _ in range(num_layers)\n",
    "        ])\n",
    "\n",
    "        self.ln_f = nn.LayerNorm(d_model)\n",
    "        self.output_projection = nn.Linear(d_model, vocab_size)\n",
    "        self.max_seq_length = max_seq_length\n",
    "\n",
    "    def generate_causal_mask(self, seq_len, device):\n",
    "        return torch.triu(torch.full((seq_len, seq_len), float('-inf')), diagonal=1).to(device)\n",
    "\n",
    "    def forward(self, input_ids):\n",
    "        B, T = input_ids.shape\n",
    "        assert T <= self.max_seq_length\n",
    "\n",
    "        tok_emb = self.token_embedding(input_ids)\n",
    "        pos_emb = self.positional_embedding[:, :T, :]\n",
    "        x = tok_emb + pos_emb\n",
    "\n",
    "        mask = self.generate_causal_mask(T, input_ids.device)\n",
    "\n",
    "        for layer in self.layers:\n",
    "            x = layer(x, mask)\n",
    "\n",
    "        x = self.ln_f(x)\n",
    "        logits = self.output_projection(x)\n",
    "        return logits\n",
    "\n"
   ]
  },
  {
   "cell_type": "code",
   "execution_count": null,
   "id": "652cdf43",
   "metadata": {},
   "outputs": [
    {
     "name": "stdout",
     "output_type": "stream",
     "text": [
      "Once upon a time Gall external Avery「 Gomez 000000queuevalidcollar DN JavaScript Architectshard haythanwithstandingelokin horrified Education bordering subpoena laws majestic sailedatoon LOW 303 WHITE indications\n"
     ]
    }
   ],
   "source": [
    "\n",
    "from transformers import GPT2Tokenizer\n",
    "\n",
    "tokenizer = GPT2Tokenizer.from_pretrained(\"gpt2\")\n",
    "tokenizer.pad_token = tokenizer.eos_token\n",
    "\"\"\"\n",
    "model = GPTDecoderOnlyModel(vocab_size=tokenizer.vocab_size)\n",
    "model.eval()\n",
    "\n",
    "# Textgenerierung wie vorher\n",
    "def generate(model, tokenizer, prompt, max_new_tokens=20):\n",
    "    model.eval()\n",
    "    input_ids = tokenizer(prompt, return_tensors=\"pt\").input_ids\n",
    "\n",
    "    for _ in range(max_new_tokens):\n",
    "        logits = model(input_ids)\n",
    "        next_token_logits = logits[:, -1, :]\n",
    "        next_token = torch.argmax(next_token_logits, dim=-1).unsqueeze(-1)\n",
    "        input_ids = torch.cat([input_ids, next_token], dim=-1)\n",
    "\n",
    "    return tokenizer.decode(input_ids[0], skip_special_tokens=True)\n",
    "\n",
    "print(generate(model, tokenizer, \"Once upon a time\", max_new_tokens=30))\n",
    "\n",
    "\"\"\""
   ]
  }
 ],
 "metadata": {
  "kernelspec": {
   "display_name": "neuro_env",
   "language": "python",
   "name": "python3"
  },
  "language_info": {
   "codemirror_mode": {
    "name": "ipython",
    "version": 3
   },
   "file_extension": ".py",
   "mimetype": "text/x-python",
   "name": "python",
   "nbconvert_exporter": "python",
   "pygments_lexer": "ipython3",
   "version": "3.10.16"
  }
 },
 "nbformat": 4,
 "nbformat_minor": 5
}

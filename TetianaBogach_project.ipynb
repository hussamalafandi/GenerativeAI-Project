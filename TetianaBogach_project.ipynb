{
 "cells": [
  {
   "cell_type": "code",
   "execution_count": null,
   "metadata": {},
   "outputs": [],
   "source": [
    "import wandb\n",
    "import random\n",
    "\n",
    "#wandb.login()\n",
    "\n",
    "epochs = 10\n",
    "lr = 0.01\n",
    "\n",
    "run = wandb.init(\n",
    "    project=\"my-awesome-project\",    # Specify your project\n",
    "    config={                         # Track hyperparameters and metadata\n",
    "        \"learning_rate\": lr,\n",
    "        \"epochs\": epochs,\n",
    "    },\n",
    ")"
   ]
  }
 ],
 "metadata": {
  "language_info": {
   "name": "python"
  }
 },
 "nbformat": 4,
 "nbformat_minor": 2
}
